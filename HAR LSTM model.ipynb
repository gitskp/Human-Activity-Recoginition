{
 "cells": [
  {
   "cell_type": "markdown",
   "metadata": {},
   "source": [
    "## HAR LSTM model"
   ]
  },
  {
   "cell_type": "code",
   "execution_count": 1,
   "metadata": {
    "ExecuteTime": {
     "end_time": "2018-11-08T12:22:21.789048Z",
     "start_time": "2018-11-08T12:22:18.553463Z"
    }
   },
   "outputs": [],
   "source": [
    "import pandas as pd\n",
    "import numpy as np"
   ]
  },
  {
   "cell_type": "code",
   "execution_count": 2,
   "metadata": {
    "ExecuteTime": {
     "end_time": "2018-11-08T12:22:21.796015Z",
     "start_time": "2018-11-08T12:22:21.791030Z"
    }
   },
   "outputs": [],
   "source": [
    "# Activities are the class labels\n",
    "# It is a 6 class classification\n",
    "ACTIVITIES = {\n",
    "    0: 'WALKING',\n",
    "    1: 'WALKING_UPSTAIRS',\n",
    "    2: 'WALKING_DOWNSTAIRS',\n",
    "    3: 'SITTING',\n",
    "    4: 'STANDING',\n",
    "    5: 'LAYING',\n",
    "}\n",
    "\n",
    "# Utility function to print the confusion matrix\n",
    "def confusion_matrix(Y_true, Y_pred):\n",
    "    Y_true = pd.Series([ACTIVITIES[y] for y in np.argmax(Y_true, axis=1)])\n",
    "    Y_pred = pd.Series([ACTIVITIES[y] for y in np.argmax(Y_pred, axis=1)])\n",
    "\n",
    "    return pd.crosstab(Y_true, Y_pred, rownames=['True'], colnames=['Pred'])"
   ]
  },
  {
   "cell_type": "markdown",
   "metadata": {},
   "source": [
    "### Data"
   ]
  },
  {
   "cell_type": "code",
   "execution_count": 3,
   "metadata": {
    "ExecuteTime": {
     "end_time": "2018-11-08T12:22:23.649180Z",
     "start_time": "2018-11-08T12:22:23.645211Z"
    }
   },
   "outputs": [],
   "source": [
    "# Data directory\n",
    "DATADIR = 'UCI_HAR_Dataset'"
   ]
  },
  {
   "cell_type": "code",
   "execution_count": 4,
   "metadata": {
    "ExecuteTime": {
     "end_time": "2018-11-08T12:22:24.449906Z",
     "start_time": "2018-11-08T12:22:24.445916Z"
    }
   },
   "outputs": [],
   "source": [
    "# Raw data signals\n",
    "# Signals are from Accelerometer and Gyroscope\n",
    "# The signals are in x,y,z directions\n",
    "# Sensor signals are filtered to have only body acceleration\n",
    "# excluding the acceleration due to gravity\n",
    "# Triaxial acceleration from the accelerometer is total acceleration\n",
    "SIGNALS = [\n",
    "    \"body_acc_x\",\n",
    "    \"body_acc_y\",\n",
    "    \"body_acc_z\",\n",
    "    \"body_gyro_x\",\n",
    "    \"body_gyro_y\",\n",
    "    \"body_gyro_z\",\n",
    "    \"total_acc_x\",\n",
    "    \"total_acc_y\",\n",
    "    \"total_acc_z\"\n",
    "]"
   ]
  },
  {
   "cell_type": "code",
   "execution_count": 5,
   "metadata": {
    "ExecuteTime": {
     "end_time": "2018-11-08T12:22:24.891483Z",
     "start_time": "2018-11-08T12:22:24.877342Z"
    }
   },
   "outputs": [],
   "source": [
    "# Utility function to read the data from csv file\n",
    "def _read_csv(filename):\n",
    "    return pd.read_csv(filename, delim_whitespace=True, header=None)\n",
    "\n",
    "# Utility function to load the load\n",
    "def load_signals(subset):\n",
    "    signals_data = []\n",
    "\n",
    "    for signal in SIGNALS:\n",
    "        filename = f'UCI_HAR_Dataset/{subset}/Inertial Signals/{signal}_{subset}.txt'\n",
    "        signals_data.append(\n",
    "            _read_csv(filename).as_matrix()\n",
    "        ) \n",
    "\n",
    "    # Transpose is used to change the dimensionality of the output,\n",
    "    # aggregating the signals by combination of sample/timestep.\n",
    "    # Resultant shape is (7352 train/2947 test samples, 128 timesteps, 9 signals)\n",
    "    return np.transpose(signals_data, (1, 2, 0))"
   ]
  },
  {
   "cell_type": "code",
   "execution_count": 6,
   "metadata": {
    "ExecuteTime": {
     "end_time": "2018-11-08T12:22:25.522456Z",
     "start_time": "2018-11-08T12:22:25.518437Z"
    }
   },
   "outputs": [],
   "source": [
    "def load_y(subset):\n",
    "    \"\"\"\n",
    "    The objective that we are trying to predict is a integer, from 1 to 6,\n",
    "    that represents a human activity. We return a binary representation of \n",
    "    every sample objective as a 6 bits vector using One Hot Encoding\n",
    "    (https://pandas.pydata.org/pandas-docs/stable/generated/pandas.get_dummies.html)\n",
    "    \"\"\"\n",
    "    filename = f'UCI_HAR_Dataset/{subset}/y_{subset}.txt'\n",
    "    y = _read_csv(filename)[0]\n",
    "\n",
    "    return pd.get_dummies(y).as_matrix()"
   ]
  },
  {
   "cell_type": "code",
   "execution_count": 7,
   "metadata": {
    "ExecuteTime": {
     "end_time": "2018-11-08T12:22:26.369782Z",
     "start_time": "2018-11-08T12:22:26.365793Z"
    }
   },
   "outputs": [],
   "source": [
    "def load_data():\n",
    "    \"\"\"\n",
    "    Obtain the dataset from multiple files.\n",
    "    Returns: X_train, X_test, y_train, y_test\n",
    "    \"\"\"\n",
    "    X_train, X_test = load_signals('train'), load_signals('test')\n",
    "    y_train, y_test = load_y('train'), load_y('test')\n",
    "\n",
    "    return X_train, X_test, y_train, y_test"
   ]
  },
  {
   "cell_type": "code",
   "execution_count": 8,
   "metadata": {
    "ExecuteTime": {
     "end_time": "2018-11-08T12:22:37.409866Z",
     "start_time": "2018-11-08T12:22:27.116839Z"
    }
   },
   "outputs": [],
   "source": [
    "# Importing tensorflow\n",
    "np.random.seed(42)\n",
    "import tensorflow as tf\n",
    "tf.set_random_seed(42)"
   ]
  },
  {
   "cell_type": "code",
   "execution_count": 9,
   "metadata": {
    "ExecuteTime": {
     "end_time": "2018-11-08T12:22:37.415507Z",
     "start_time": "2018-11-08T12:22:37.411516Z"
    }
   },
   "outputs": [],
   "source": [
    "# Configuring a session\n",
    "session_conf = tf.ConfigProto(\n",
    "    intra_op_parallelism_threads=1,\n",
    "    inter_op_parallelism_threads=1\n",
    ")"
   ]
  },
  {
   "cell_type": "code",
   "execution_count": 10,
   "metadata": {
    "ExecuteTime": {
     "end_time": "2018-11-08T12:22:44.242555Z",
     "start_time": "2018-11-08T12:22:39.708137Z"
    }
   },
   "outputs": [
    {
     "name": "stderr",
     "output_type": "stream",
     "text": [
      "Using TensorFlow backend.\n"
     ]
    }
   ],
   "source": [
    "# Import Keras\n",
    "from keras import backend as K\n",
    "sess = tf.Session(graph=tf.get_default_graph(), config=session_conf)\n",
    "K.set_session(sess)"
   ]
  },
  {
   "cell_type": "code",
   "execution_count": 11,
   "metadata": {
    "ExecuteTime": {
     "end_time": "2018-11-08T12:22:53.746826Z",
     "start_time": "2018-11-08T12:22:53.742836Z"
    }
   },
   "outputs": [],
   "source": [
    "# Importing libraries\n",
    "from keras.models import Sequential\n",
    "from keras.layers import LSTM\n",
    "from keras.layers.core import Dense, Dropout"
   ]
  },
  {
   "cell_type": "code",
   "execution_count": null,
   "metadata": {
    "ExecuteTime": {
     "end_time": "2018-11-05T05:07:48.829526Z",
     "start_time": "2018-11-05T05:07:48.825522Z"
    }
   },
   "outputs": [],
   "source": []
  },
  {
   "cell_type": "code",
   "execution_count": 12,
   "metadata": {
    "ExecuteTime": {
     "end_time": "2018-11-08T12:22:56.800708Z",
     "start_time": "2018-11-08T12:22:56.796748Z"
    }
   },
   "outputs": [],
   "source": [
    "# Utility function to count the number of classes\n",
    "def _count_classes(y):\n",
    "    return len(set([tuple(category) for category in y]))"
   ]
  },
  {
   "cell_type": "code",
   "execution_count": 13,
   "metadata": {
    "ExecuteTime": {
     "end_time": "2018-11-08T12:23:02.220571Z",
     "start_time": "2018-11-08T12:22:57.595917Z"
    }
   },
   "outputs": [
    {
     "name": "stderr",
     "output_type": "stream",
     "text": [
      "C:\\Users\\Shrikant\\Anaconda3\\envs\\tf15\\lib\\site-packages\\ipykernel_launcher.py:12: FutureWarning: Method .as_matrix will be removed in a future version. Use .values instead.\n",
      "  if sys.path[0] == '':\n",
      "C:\\Users\\Shrikant\\Anaconda3\\envs\\tf15\\lib\\site-packages\\ipykernel_launcher.py:11: FutureWarning: Method .as_matrix will be removed in a future version. Use .values instead.\n",
      "  # This is added back by InteractiveShellApp.init_path()\n"
     ]
    }
   ],
   "source": [
    "# Loading the train and test data\n",
    "X_train, X_test, Y_train, Y_test = load_data()"
   ]
  },
  {
   "cell_type": "code",
   "execution_count": 14,
   "metadata": {
    "ExecuteTime": {
     "end_time": "2018-11-08T12:23:06.420304Z",
     "start_time": "2018-11-08T12:23:06.401356Z"
    }
   },
   "outputs": [
    {
     "name": "stdout",
     "output_type": "stream",
     "text": [
      "timestep of vector dimension is:128\n",
      "input dimension is  :9\n",
      "Numbers of windows with overlapping is:7352\n",
      "Number of classes is:6\n"
     ]
    }
   ],
   "source": [
    "timesteps = len(X_train[0])\n",
    "input_dim = len(X_train[0][0])\n",
    "n_classes = _count_classes(Y_train)\n",
    "\n",
    "print(\"timestep of vector dimension is:{}\".format(timesteps))\n",
    "print(\"input dimension is  :{}\".format(input_dim))\n",
    "print(\"Numbers of windows with overlapping is:{}\".format(len(X_train)))\n",
    "print(\"Number of classes is:{}\".format(n_classes))"
   ]
  },
  {
   "cell_type": "code",
   "execution_count": 15,
   "metadata": {
    "ExecuteTime": {
     "end_time": "2018-11-08T12:23:07.846777Z",
     "start_time": "2018-11-08T12:23:07.836804Z"
    }
   },
   "outputs": [
    {
     "data": {
      "text/plain": [
       "6"
      ]
     },
     "execution_count": 15,
     "metadata": {},
     "output_type": "execute_result"
    }
   ],
   "source": [
    "n_classes"
   ]
  },
  {
   "cell_type": "markdown",
   "metadata": {},
   "source": [
    "#### Defining the Architecture of LSTM"
   ]
  },
  {
   "cell_type": "code",
   "execution_count": 16,
   "metadata": {
    "ExecuteTime": {
     "end_time": "2018-11-08T12:23:40.835539Z",
     "start_time": "2018-11-08T12:23:40.830552Z"
    }
   },
   "outputs": [],
   "source": [
    "# Initializing parameters\n",
    "epochs = 150\n",
    "batch_size = 128\n",
    "n_hidden = 32"
   ]
  },
  {
   "cell_type": "code",
   "execution_count": 17,
   "metadata": {
    "ExecuteTime": {
     "end_time": "2018-11-08T12:23:45.260570Z",
     "start_time": "2018-11-08T12:23:44.989296Z"
    }
   },
   "outputs": [
    {
     "name": "stdout",
     "output_type": "stream",
     "text": [
      "_________________________________________________________________\n",
      "Layer (type)                 Output Shape              Param #   \n",
      "=================================================================\n",
      "lstm_1 (LSTM)                (None, 32)                5376      \n",
      "_________________________________________________________________\n",
      "dropout_1 (Dropout)          (None, 32)                0         \n",
      "_________________________________________________________________\n",
      "dense_1 (Dense)              (None, 6)                 198       \n",
      "=================================================================\n",
      "Total params: 5,574\n",
      "Trainable params: 5,574\n",
      "Non-trainable params: 0\n",
      "_________________________________________________________________\n"
     ]
    }
   ],
   "source": [
    "# Initiliazing the sequential model\n",
    "model1 = Sequential()\n",
    "# Configuring the parameters\n",
    "model1.add(LSTM(n_hidden,input_shape=(timesteps, input_dim)))\n",
    "# Adding a dropout layer\n",
    "model1.add(Dropout(0.5))\n",
    "# Adding a dense output layer with sigmoid activation\n",
    "model1.add(Dense(n_classes,activation='sigmoid'))\n",
    "model1.summary()\n"
   ]
  },
  {
   "cell_type": "code",
   "execution_count": 18,
   "metadata": {
    "ExecuteTime": {
     "end_time": "2018-11-08T12:23:49.062236Z",
     "start_time": "2018-11-08T12:23:49.028332Z"
    }
   },
   "outputs": [],
   "source": [
    "# Compiling the model\n",
    "model1.compile(loss='categorical_crossentropy',\n",
    "              optimizer='rmsprop',\n",
    "              metrics=['accuracy'])"
   ]
  },
  {
   "cell_type": "code",
   "execution_count": 19,
   "metadata": {
    "ExecuteTime": {
     "end_time": "2018-11-08T13:14:17.497803Z",
     "start_time": "2018-11-08T12:23:51.124323Z"
    }
   },
   "outputs": [
    {
     "name": "stdout",
     "output_type": "stream",
     "text": [
      "Train on 7352 samples, validate on 2947 samples\n",
      "Epoch 1/150\n",
      "7352/7352 [==============================] - 19s 3ms/step - loss: 1.5712 - acc: 0.3894 - val_loss: 1.4528 - val_acc: 0.4259\n",
      "Epoch 2/150\n",
      "7352/7352 [==============================] - 17s 2ms/step - loss: 1.3602 - acc: 0.4429 - val_loss: 1.4376 - val_acc: 0.4296\n",
      "Epoch 3/150\n",
      "7352/7352 [==============================] - 18s 2ms/step - loss: 1.2929 - acc: 0.4668 - val_loss: 1.3488 - val_acc: 0.4245\n",
      "Epoch 4/150\n",
      "7352/7352 [==============================] - 18s 2ms/step - loss: 1.2183 - acc: 0.4872 - val_loss: 1.2905 - val_acc: 0.3990\n",
      "Epoch 5/150\n",
      "7352/7352 [==============================] - 19s 3ms/step - loss: 1.1837 - acc: 0.4852 - val_loss: 1.1706 - val_acc: 0.4659\n",
      "Epoch 6/150\n",
      "7352/7352 [==============================] - 18s 2ms/step - loss: 1.0878 - acc: 0.5143 - val_loss: 1.0978 - val_acc: 0.4880\n",
      "Epoch 7/150\n",
      "7352/7352 [==============================] - 19s 3ms/step - loss: 1.0113 - acc: 0.5412 - val_loss: 1.0460 - val_acc: 0.5049\n",
      "Epoch 8/150\n",
      "7352/7352 [==============================] - 19s 3ms/step - loss: 0.9419 - acc: 0.5873 - val_loss: 0.9949 - val_acc: 0.5558\n",
      "Epoch 9/150\n",
      "7352/7352 [==============================] - 18s 2ms/step - loss: 0.8910 - acc: 0.6270 - val_loss: 0.9126 - val_acc: 0.6081\n",
      "Epoch 10/150\n",
      "7352/7352 [==============================] - 18s 2ms/step - loss: 0.8533 - acc: 0.6447 - val_loss: 0.8777 - val_acc: 0.6162\n",
      "Epoch 11/150\n",
      "7352/7352 [==============================] - 18s 2ms/step - loss: 0.7993 - acc: 0.6688 - val_loss: 0.8380 - val_acc: 0.6135\n",
      "Epoch 12/150\n",
      "7352/7352 [==============================] - 18s 2ms/step - loss: 0.7613 - acc: 0.6654 - val_loss: 0.7974 - val_acc: 0.6237\n",
      "Epoch 13/150\n",
      "7352/7352 [==============================] - 18s 2ms/step - loss: 0.7274 - acc: 0.6669 - val_loss: 0.7851 - val_acc: 0.6257\n",
      "Epoch 14/150\n",
      "7352/7352 [==============================] - 18s 2ms/step - loss: 0.6956 - acc: 0.6697 - val_loss: 0.7758 - val_acc: 0.6111\n",
      "Epoch 15/150\n",
      "7352/7352 [==============================] - 18s 2ms/step - loss: 0.6775 - acc: 0.6689 - val_loss: 0.7748 - val_acc: 0.6071\n",
      "Epoch 16/150\n",
      "7352/7352 [==============================] - 18s 2ms/step - loss: 0.6509 - acc: 0.6768 - val_loss: 0.7235 - val_acc: 0.6128\n",
      "Epoch 17/150\n",
      "7352/7352 [==============================] - 18s 2ms/step - loss: 0.6246 - acc: 0.6840 - val_loss: 0.7505 - val_acc: 0.6216\n",
      "Epoch 18/150\n",
      "7352/7352 [==============================] - 18s 2ms/step - loss: 0.6221 - acc: 0.6911 - val_loss: 0.7263 - val_acc: 0.6193\n",
      "Epoch 19/150\n",
      "7352/7352 [==============================] - 19s 3ms/step - loss: 0.5949 - acc: 0.6982 - val_loss: 0.7706 - val_acc: 0.6200\n",
      "Epoch 20/150\n",
      "7352/7352 [==============================] - 18s 2ms/step - loss: 0.6210 - acc: 0.6991 - val_loss: 0.7011 - val_acc: 0.6498\n",
      "Epoch 21/150\n",
      "7352/7352 [==============================] - 18s 2ms/step - loss: 0.5950 - acc: 0.7070 - val_loss: 0.7106 - val_acc: 0.6851\n",
      "Epoch 22/150\n",
      "7352/7352 [==============================] - 20s 3ms/step - loss: 0.5774 - acc: 0.7221 - val_loss: 0.6800 - val_acc: 0.6715\n",
      "Epoch 23/150\n",
      "7352/7352 [==============================] - 18s 2ms/step - loss: 0.5528 - acc: 0.7335 - val_loss: 0.7270 - val_acc: 0.6851\n",
      "Epoch 24/150\n",
      "7352/7352 [==============================] - 18s 2ms/step - loss: 0.5652 - acc: 0.7394 - val_loss: 0.6946 - val_acc: 0.7163\n",
      "Epoch 25/150\n",
      "7352/7352 [==============================] - 18s 2ms/step - loss: 0.5392 - acc: 0.7477 - val_loss: 0.7915 - val_acc: 0.6916\n",
      "Epoch 26/150\n",
      "7352/7352 [==============================] - 18s 2ms/step - loss: 0.5710 - acc: 0.7282 - val_loss: 0.7276 - val_acc: 0.7153\n",
      "Epoch 27/150\n",
      "7352/7352 [==============================] - 18s 3ms/step - loss: 0.5448 - acc: 0.7531 - val_loss: 0.6700 - val_acc: 0.7404\n",
      "Epoch 28/150\n",
      "7352/7352 [==============================] - 18s 2ms/step - loss: 0.5271 - acc: 0.7735 - val_loss: 0.6778 - val_acc: 0.7340\n",
      "Epoch 29/150\n",
      "7352/7352 [==============================] - 18s 2ms/step - loss: 0.5104 - acc: 0.7803 - val_loss: 0.6294 - val_acc: 0.7418\n",
      "Epoch 30/150\n",
      "7352/7352 [==============================] - 18s 2ms/step - loss: 0.4914 - acc: 0.7900 - val_loss: 0.6444 - val_acc: 0.7404\n",
      "Epoch 31/150\n",
      "7352/7352 [==============================] - 19s 3ms/step - loss: 0.4819 - acc: 0.7878 - val_loss: 0.6363 - val_acc: 0.7421\n",
      "Epoch 32/150\n",
      "7352/7352 [==============================] - 18s 2ms/step - loss: 0.4861 - acc: 0.7847 - val_loss: 0.6187 - val_acc: 0.7387\n",
      "Epoch 33/150\n",
      "7352/7352 [==============================] - 18s 3ms/step - loss: 0.4444 - acc: 0.7964 - val_loss: 0.5875 - val_acc: 0.7469\n",
      "Epoch 34/150\n",
      "7352/7352 [==============================] - 18s 2ms/step - loss: 0.4510 - acc: 0.7931 - val_loss: 0.6149 - val_acc: 0.7448\n",
      "Epoch 35/150\n",
      "7352/7352 [==============================] - 19s 3ms/step - loss: 0.4369 - acc: 0.7953 - val_loss: 1.1722 - val_acc: 0.6824\n",
      "Epoch 36/150\n",
      "7352/7352 [==============================] - 19s 3ms/step - loss: 0.4400 - acc: 0.7987 - val_loss: 0.5699 - val_acc: 0.7503\n",
      "Epoch 37/150\n",
      "7352/7352 [==============================] - 18s 2ms/step - loss: 0.4191 - acc: 0.8016 - val_loss: 0.5946 - val_acc: 0.7540\n",
      "Epoch 38/150\n",
      "7352/7352 [==============================] - 18s 2ms/step - loss: 0.4239 - acc: 0.8011 - val_loss: 0.5293 - val_acc: 0.7587\n",
      "Epoch 39/150\n",
      "7352/7352 [==============================] - 19s 3ms/step - loss: 0.3994 - acc: 0.8036 - val_loss: 0.5944 - val_acc: 0.7530\n",
      "Epoch 40/150\n",
      "7352/7352 [==============================] - 19s 3ms/step - loss: 0.3906 - acc: 0.8092 - val_loss: 0.7095 - val_acc: 0.7367\n",
      "Epoch 41/150\n",
      "7352/7352 [==============================] - 19s 3ms/step - loss: 0.3949 - acc: 0.8098 - val_loss: 0.6155 - val_acc: 0.7496\n",
      "Epoch 42/150\n",
      "7352/7352 [==============================] - 19s 3ms/step - loss: 0.3921 - acc: 0.8112 - val_loss: 0.5937 - val_acc: 0.7564\n",
      "Epoch 43/150\n",
      "7352/7352 [==============================] - 19s 3ms/step - loss: 0.3756 - acc: 0.8098 - val_loss: 0.6167 - val_acc: 0.7431\n",
      "Epoch 44/150\n",
      "7352/7352 [==============================] - 19s 3ms/step - loss: 0.3765 - acc: 0.8164 - val_loss: 0.6016 - val_acc: 0.7567\n",
      "Epoch 45/150\n",
      "7352/7352 [==============================] - 22s 3ms/step - loss: 0.3636 - acc: 0.8215 - val_loss: 0.5855 - val_acc: 0.7238\n",
      "Epoch 46/150\n",
      "7352/7352 [==============================] - 19s 3ms/step - loss: 0.3718 - acc: 0.8244 - val_loss: 0.5259 - val_acc: 0.7445\n",
      "Epoch 47/150\n",
      "7352/7352 [==============================] - 19s 3ms/step - loss: 0.3384 - acc: 0.8342 - val_loss: 0.5229 - val_acc: 0.7635\n",
      "Epoch 48/150\n",
      "7352/7352 [==============================] - 19s 3ms/step - loss: 0.3641 - acc: 0.8278 - val_loss: 0.4657 - val_acc: 0.7720\n",
      "Epoch 49/150\n",
      "7352/7352 [==============================] - 19s 3ms/step - loss: 0.3442 - acc: 0.8463 - val_loss: 0.5533 - val_acc: 0.7710\n",
      "Epoch 50/150\n",
      "7352/7352 [==============================] - 17s 2ms/step - loss: 0.3246 - acc: 0.8606 - val_loss: 0.5140 - val_acc: 0.8212\n",
      "Epoch 51/150\n",
      "7352/7352 [==============================] - 17s 2ms/step - loss: 0.3147 - acc: 0.8760 - val_loss: 0.5195 - val_acc: 0.8412\n",
      "Epoch 52/150\n",
      "7352/7352 [==============================] - 18s 2ms/step - loss: 0.2965 - acc: 0.8962 - val_loss: 0.4585 - val_acc: 0.8643\n",
      "Epoch 53/150\n",
      "7352/7352 [==============================] - 18s 2ms/step - loss: 0.2816 - acc: 0.9105 - val_loss: 0.5220 - val_acc: 0.8700\n",
      "Epoch 54/150\n",
      "7352/7352 [==============================] - 17s 2ms/step - loss: 0.2744 - acc: 0.9214 - val_loss: 0.4393 - val_acc: 0.8819\n",
      "Epoch 55/150\n",
      "7352/7352 [==============================] - 18s 2ms/step - loss: 0.2692 - acc: 0.9242 - val_loss: 0.4500 - val_acc: 0.8863\n",
      "Epoch 56/150\n",
      "7352/7352 [==============================] - 19s 3ms/step - loss: 0.2367 - acc: 0.9348 - val_loss: 0.4407 - val_acc: 0.8744\n",
      "Epoch 57/150\n",
      "7352/7352 [==============================] - 19s 3ms/step - loss: 0.2350 - acc: 0.9298 - val_loss: 0.4608 - val_acc: 0.8833\n",
      "Epoch 58/150\n",
      "7352/7352 [==============================] - 17s 2ms/step - loss: 0.2245 - acc: 0.9321 - val_loss: 0.4201 - val_acc: 0.8873\n",
      "Epoch 59/150\n",
      "7352/7352 [==============================] - 20s 3ms/step - loss: 0.2113 - acc: 0.9376 - val_loss: 0.4894 - val_acc: 0.8816\n",
      "Epoch 60/150\n",
      "7352/7352 [==============================] - 24s 3ms/step - loss: 0.1969 - acc: 0.9406 - val_loss: 0.5147 - val_acc: 0.8687\n",
      "Epoch 61/150\n",
      "7352/7352 [==============================] - 25s 3ms/step - loss: 0.2092 - acc: 0.9363 - val_loss: 0.3443 - val_acc: 0.8867\n",
      "Epoch 62/150\n",
      "7352/7352 [==============================] - 24s 3ms/step - loss: 0.2044 - acc: 0.9400 - val_loss: 0.3767 - val_acc: 0.8873\n",
      "Epoch 63/150\n",
      "7352/7352 [==============================] - 23s 3ms/step - loss: 0.2118 - acc: 0.9391 - val_loss: 0.6452 - val_acc: 0.8504\n",
      "Epoch 64/150\n",
      "7352/7352 [==============================] - 22s 3ms/step - loss: 0.1995 - acc: 0.9395 - val_loss: 0.3983 - val_acc: 0.8761\n",
      "Epoch 65/150\n",
      "7352/7352 [==============================] - 20s 3ms/step - loss: 0.1766 - acc: 0.9471 - val_loss: 0.3537 - val_acc: 0.8799\n",
      "Epoch 66/150\n",
      "7352/7352 [==============================] - 22s 3ms/step - loss: 0.1771 - acc: 0.9395 - val_loss: 0.4050 - val_acc: 0.8785\n",
      "Epoch 67/150\n",
      "7352/7352 [==============================] - 22s 3ms/step - loss: 0.1764 - acc: 0.9408 - val_loss: 0.3454 - val_acc: 0.8951\n",
      "Epoch 68/150\n",
      "7352/7352 [==============================] - 24s 3ms/step - loss: 0.1997 - acc: 0.9342 - val_loss: 0.3274 - val_acc: 0.8989\n",
      "Epoch 69/150\n",
      "7352/7352 [==============================] - 24s 3ms/step - loss: 0.1679 - acc: 0.9410 - val_loss: 0.3443 - val_acc: 0.8958\n",
      "Epoch 70/150\n",
      "7352/7352 [==============================] - 21s 3ms/step - loss: 0.1862 - acc: 0.9414 - val_loss: 0.3333 - val_acc: 0.8982\n",
      "Epoch 71/150\n",
      "7352/7352 [==============================] - 20s 3ms/step - loss: 0.1698 - acc: 0.9457 - val_loss: 0.4679 - val_acc: 0.8843\n",
      "Epoch 72/150\n",
      "7352/7352 [==============================] - 21s 3ms/step - loss: 0.1689 - acc: 0.9463 - val_loss: 0.3078 - val_acc: 0.9016\n",
      "Epoch 73/150\n",
      "7352/7352 [==============================] - 29s 4ms/step - loss: 0.1593 - acc: 0.9418 - val_loss: 0.3155 - val_acc: 0.9023\n",
      "Epoch 74/150\n",
      "7352/7352 [==============================] - 28s 4ms/step - loss: 0.1622 - acc: 0.9486 - val_loss: 0.3797 - val_acc: 0.8914\n",
      "Epoch 75/150\n",
      "7352/7352 [==============================] - 27s 4ms/step - loss: 0.1552 - acc: 0.9475 - val_loss: 0.3729 - val_acc: 0.8941\n",
      "Epoch 76/150\n",
      "7352/7352 [==============================] - 24s 3ms/step - loss: 0.1735 - acc: 0.9423 - val_loss: 0.2890 - val_acc: 0.8992\n",
      "Epoch 77/150\n",
      "7352/7352 [==============================] - 20s 3ms/step - loss: 0.1540 - acc: 0.9472 - val_loss: 0.4308 - val_acc: 0.8853\n",
      "Epoch 78/150\n",
      "7352/7352 [==============================] - 21s 3ms/step - loss: 0.1443 - acc: 0.9506 - val_loss: 0.3463 - val_acc: 0.8948\n",
      "Epoch 79/150\n",
      "7352/7352 [==============================] - 19s 3ms/step - loss: 0.1609 - acc: 0.9491 - val_loss: 0.4342 - val_acc: 0.8890\n",
      "Epoch 80/150\n",
      "7352/7352 [==============================] - 21s 3ms/step - loss: 0.1523 - acc: 0.9489 - val_loss: 0.3083 - val_acc: 0.8843\n",
      "Epoch 81/150\n",
      "7352/7352 [==============================] - 17s 2ms/step - loss: 0.1574 - acc: 0.9450 - val_loss: 0.3901 - val_acc: 0.8873\n",
      "Epoch 82/150\n",
      "7352/7352 [==============================] - 17s 2ms/step - loss: 0.1389 - acc: 0.9497 - val_loss: 0.3939 - val_acc: 0.9036\n",
      "Epoch 83/150\n",
      "7352/7352 [==============================] - 17s 2ms/step - loss: 0.1565 - acc: 0.9512 - val_loss: 0.6567 - val_acc: 0.8765\n",
      "Epoch 84/150\n",
      "7352/7352 [==============================] - 17s 2ms/step - loss: 0.1544 - acc: 0.9490 - val_loss: 0.4060 - val_acc: 0.8839\n",
      "Epoch 85/150\n",
      "7352/7352 [==============================] - 17s 2ms/step - loss: 0.1440 - acc: 0.9505 - val_loss: 0.3872 - val_acc: 0.9084\n",
      "Epoch 86/150\n",
      "7352/7352 [==============================] - 17s 2ms/step - loss: 0.1578 - acc: 0.9513 - val_loss: 0.3653 - val_acc: 0.8958\n",
      "Epoch 87/150\n",
      "7352/7352 [==============================] - 17s 2ms/step - loss: 0.1364 - acc: 0.9527 - val_loss: 0.3489 - val_acc: 0.9019\n",
      "Epoch 88/150\n",
      "7352/7352 [==============================] - 17s 2ms/step - loss: 0.1338 - acc: 0.9527 - val_loss: 0.6219 - val_acc: 0.8714\n",
      "Epoch 89/150\n",
      "7352/7352 [==============================] - 17s 2ms/step - loss: 0.1527 - acc: 0.9506 - val_loss: 0.3488 - val_acc: 0.8968\n",
      "Epoch 90/150\n",
      "7352/7352 [==============================] - 17s 2ms/step - loss: 0.1498 - acc: 0.9516 - val_loss: 0.3387 - val_acc: 0.8992\n",
      "Epoch 91/150\n",
      "7352/7352 [==============================] - 17s 2ms/step - loss: 0.1550 - acc: 0.9498 - val_loss: 0.3158 - val_acc: 0.9016\n",
      "Epoch 92/150\n",
      "7352/7352 [==============================] - 17s 2ms/step - loss: 0.1423 - acc: 0.9536 - val_loss: 0.4130 - val_acc: 0.8945\n",
      "Epoch 93/150\n",
      "7352/7352 [==============================] - 17s 2ms/step - loss: 0.1331 - acc: 0.9524 - val_loss: 0.3687 - val_acc: 0.9033\n",
      "Epoch 94/150\n",
      "7352/7352 [==============================] - 17s 2ms/step - loss: 0.1374 - acc: 0.9546 - val_loss: 0.3813 - val_acc: 0.8914\n",
      "Epoch 95/150\n",
      "7352/7352 [==============================] - 17s 2ms/step - loss: 0.1387 - acc: 0.9539 - val_loss: 0.4267 - val_acc: 0.8880\n",
      "Epoch 96/150\n",
      "7352/7352 [==============================] - 18s 2ms/step - loss: 0.1352 - acc: 0.9521 - val_loss: 0.3228 - val_acc: 0.9097\n",
      "Epoch 97/150\n",
      "7352/7352 [==============================] - 18s 2ms/step - loss: 0.1493 - acc: 0.9532 - val_loss: 0.4516 - val_acc: 0.8772\n",
      "Epoch 98/150\n",
      "7352/7352 [==============================] - 23s 3ms/step - loss: 0.1320 - acc: 0.9514 - val_loss: 0.3489 - val_acc: 0.8968\n",
      "Epoch 99/150\n",
      "7352/7352 [==============================] - 18s 2ms/step - loss: 0.1317 - acc: 0.9547 - val_loss: 0.3969 - val_acc: 0.9036\n",
      "Epoch 100/150\n",
      "7352/7352 [==============================] - 19s 3ms/step - loss: 0.1320 - acc: 0.9539 - val_loss: 0.3643 - val_acc: 0.8979\n",
      "Epoch 101/150\n",
      "7352/7352 [==============================] - 17s 2ms/step - loss: 0.1239 - acc: 0.9553 - val_loss: 0.3287 - val_acc: 0.9057\n",
      "Epoch 102/150\n",
      "7352/7352 [==============================] - 17s 2ms/step - loss: 0.1277 - acc: 0.9547 - val_loss: 0.3314 - val_acc: 0.9036\n",
      "Epoch 103/150\n",
      "7352/7352 [==============================] - 19s 3ms/step - loss: 0.1295 - acc: 0.9518 - val_loss: 0.3297 - val_acc: 0.9067\n",
      "Epoch 104/150\n",
      "7352/7352 [==============================] - 18s 2ms/step - loss: 0.1594 - acc: 0.9489 - val_loss: 0.2810 - val_acc: 0.9077\n",
      "Epoch 105/150\n",
      "7352/7352 [==============================] - 25s 3ms/step - loss: 0.1571 - acc: 0.9493 - val_loss: 0.3196 - val_acc: 0.9033\n",
      "Epoch 106/150\n",
      "7352/7352 [==============================] - 28s 4ms/step - loss: 0.1347 - acc: 0.9516 - val_loss: 0.3376 - val_acc: 0.9033\n",
      "Epoch 107/150\n",
      "7352/7352 [==============================] - 23s 3ms/step - loss: 0.1434 - acc: 0.9512 - val_loss: 0.4210 - val_acc: 0.8989\n",
      "Epoch 108/150\n",
      "7352/7352 [==============================] - 25s 3ms/step - loss: 0.1537 - acc: 0.9516 - val_loss: 0.2896 - val_acc: 0.9087\n",
      "Epoch 109/150\n",
      "7352/7352 [==============================] - 28s 4ms/step - loss: 0.1319 - acc: 0.9548 - val_loss: 0.3910 - val_acc: 0.8911\n",
      "Epoch 110/150\n",
      "7352/7352 [==============================] - 26s 4ms/step - loss: 0.1218 - acc: 0.9565 - val_loss: 0.3534 - val_acc: 0.9063\n",
      "Epoch 111/150\n",
      "7352/7352 [==============================] - 21s 3ms/step - loss: 0.1337 - acc: 0.9536 - val_loss: 0.4267 - val_acc: 0.9016\n",
      "Epoch 112/150\n",
      "7352/7352 [==============================] - 22s 3ms/step - loss: 0.1434 - acc: 0.9523 - val_loss: 0.3973 - val_acc: 0.9101\n",
      "Epoch 113/150\n",
      "7352/7352 [==============================] - 22s 3ms/step - loss: 0.1473 - acc: 0.9525 - val_loss: 0.3305 - val_acc: 0.9114\n",
      "Epoch 114/150\n",
      "7352/7352 [==============================] - 23s 3ms/step - loss: 0.1428 - acc: 0.9456 - val_loss: 0.3754 - val_acc: 0.9053\n",
      "Epoch 115/150\n",
      "7352/7352 [==============================] - 23s 3ms/step - loss: 0.1375 - acc: 0.9524 - val_loss: 0.3830 - val_acc: 0.9070\n",
      "Epoch 116/150\n",
      "7352/7352 [==============================] - 23s 3ms/step - loss: 0.1222 - acc: 0.9561 - val_loss: 0.3059 - val_acc: 0.9097\n",
      "Epoch 117/150\n",
      "7352/7352 [==============================] - 24s 3ms/step - loss: 0.1211 - acc: 0.9525 - val_loss: 0.3356 - val_acc: 0.9097\n",
      "Epoch 118/150\n",
      "7352/7352 [==============================] - 23s 3ms/step - loss: 0.1248 - acc: 0.9540 - val_loss: 0.5126 - val_acc: 0.8962\n",
      "Epoch 119/150\n",
      "7352/7352 [==============================] - 22s 3ms/step - loss: 0.1359 - acc: 0.9547 - val_loss: 0.5084 - val_acc: 0.8948\n"
     ]
    },
    {
     "name": "stdout",
     "output_type": "stream",
     "text": [
      "Epoch 120/150\n",
      "7352/7352 [==============================] - 23s 3ms/step - loss: 0.1144 - acc: 0.9574 - val_loss: 0.4432 - val_acc: 0.8928\n",
      "Epoch 121/150\n",
      "7352/7352 [==============================] - 27s 4ms/step - loss: 0.1256 - acc: 0.9567 - val_loss: 0.5169 - val_acc: 0.8873\n",
      "Epoch 122/150\n",
      "7352/7352 [==============================] - 24s 3ms/step - loss: 0.1488 - acc: 0.9497 - val_loss: 0.5332 - val_acc: 0.8972\n",
      "Epoch 123/150\n",
      "7352/7352 [==============================] - 25s 3ms/step - loss: 0.5012 - acc: 0.9115 - val_loss: 0.4888 - val_acc: 0.8904\n",
      "Epoch 124/150\n",
      "7352/7352 [==============================] - 23s 3ms/step - loss: 0.1452 - acc: 0.9516 - val_loss: 0.4382 - val_acc: 0.8931\n",
      "Epoch 125/150\n",
      "7352/7352 [==============================] - 23s 3ms/step - loss: 0.1407 - acc: 0.9535 - val_loss: 0.3676 - val_acc: 0.9030\n",
      "Epoch 126/150\n",
      "7352/7352 [==============================] - 24s 3ms/step - loss: 0.1269 - acc: 0.9547 - val_loss: 0.3894 - val_acc: 0.8992\n",
      "Epoch 127/150\n",
      "7352/7352 [==============================] - 23s 3ms/step - loss: 0.1205 - acc: 0.9555 - val_loss: 0.3916 - val_acc: 0.9084\n",
      "Epoch 128/150\n",
      "7352/7352 [==============================] - 24s 3ms/step - loss: 0.1325 - acc: 0.9524 - val_loss: 0.3709 - val_acc: 0.9097\n",
      "Epoch 129/150\n",
      "7352/7352 [==============================] - 20s 3ms/step - loss: 0.1224 - acc: 0.9553 - val_loss: 0.4133 - val_acc: 0.9026\n",
      "Epoch 130/150\n",
      "7352/7352 [==============================] - 20s 3ms/step - loss: 0.1138 - acc: 0.9570 - val_loss: 0.3889 - val_acc: 0.8999\n",
      "Epoch 131/150\n",
      "7352/7352 [==============================] - 22s 3ms/step - loss: 0.1190 - acc: 0.9553 - val_loss: 0.3740 - val_acc: 0.9040\n",
      "Epoch 132/150\n",
      "7352/7352 [==============================] - 21s 3ms/step - loss: 0.1162 - acc: 0.9555 - val_loss: 0.3216 - val_acc: 0.9046\n",
      "Epoch 133/150\n",
      "7352/7352 [==============================] - 20s 3ms/step - loss: 0.1171 - acc: 0.9544 - val_loss: 0.3310 - val_acc: 0.9080\n",
      "Epoch 134/150\n",
      "7352/7352 [==============================] - 19s 3ms/step - loss: 0.1116 - acc: 0.9578 - val_loss: 0.3622 - val_acc: 0.9074\n",
      "Epoch 135/150\n",
      "7352/7352 [==============================] - 21s 3ms/step - loss: 0.1208 - acc: 0.9547 - val_loss: 0.3614 - val_acc: 0.9043\n",
      "Epoch 136/150\n",
      "7352/7352 [==============================] - 20s 3ms/step - loss: 0.1368 - acc: 0.9538 - val_loss: 0.3862 - val_acc: 0.9016\n",
      "Epoch 137/150\n",
      "7352/7352 [==============================] - 23s 3ms/step - loss: 0.1222 - acc: 0.9561 - val_loss: 0.4200 - val_acc: 0.9016\n",
      "Epoch 138/150\n",
      "7352/7352 [==============================] - 17s 2ms/step - loss: 0.1137 - acc: 0.9584 - val_loss: 0.3533 - val_acc: 0.9026\n",
      "Epoch 139/150\n",
      "7352/7352 [==============================] - 17s 2ms/step - loss: 0.1169 - acc: 0.9572 - val_loss: 0.3335 - val_acc: 0.9097\n",
      "Epoch 140/150\n",
      "7352/7352 [==============================] - 20s 3ms/step - loss: 0.1196 - acc: 0.9513 - val_loss: 0.3803 - val_acc: 0.9053\n",
      "Epoch 141/150\n",
      "7352/7352 [==============================] - 22s 3ms/step - loss: 0.1303 - acc: 0.9538 - val_loss: 0.3780 - val_acc: 0.9070\n",
      "Epoch 142/150\n",
      "7352/7352 [==============================] - 21s 3ms/step - loss: 0.1304 - acc: 0.9555 - val_loss: 0.3991 - val_acc: 0.9040\n",
      "Epoch 143/150\n",
      "7352/7352 [==============================] - 25s 3ms/step - loss: 0.1323 - acc: 0.9565 - val_loss: 0.3939 - val_acc: 0.9013\n",
      "Epoch 144/150\n",
      "7352/7352 [==============================] - 21s 3ms/step - loss: 0.1318 - acc: 0.9553 - val_loss: 0.3621 - val_acc: 0.9016\n",
      "Epoch 145/150\n",
      "7352/7352 [==============================] - 22s 3ms/step - loss: 0.1298 - acc: 0.9543 - val_loss: 0.3793 - val_acc: 0.9074\n",
      "Epoch 146/150\n",
      "7352/7352 [==============================] - 23s 3ms/step - loss: 0.1726 - acc: 0.9482 - val_loss: 0.4094 - val_acc: 0.8985\n",
      "Epoch 147/150\n",
      "7352/7352 [==============================] - 23s 3ms/step - loss: 0.1416 - acc: 0.9490 - val_loss: 0.4221 - val_acc: 0.9016\n",
      "Epoch 148/150\n",
      "7352/7352 [==============================] - 22s 3ms/step - loss: 0.1155 - acc: 0.9558 - val_loss: 0.3908 - val_acc: 0.9074\n",
      "Epoch 149/150\n",
      "7352/7352 [==============================] - 23s 3ms/step - loss: 0.1137 - acc: 0.9576 - val_loss: 0.4685 - val_acc: 0.8979\n",
      "Epoch 150/150\n",
      "7352/7352 [==============================] - 22s 3ms/step - loss: 0.1278 - acc: 0.9547 - val_loss: 0.3798 - val_acc: 0.8972\n"
     ]
    }
   ],
   "source": [
    "# Training the model\n",
    "history = model1.fit(X_train,Y_train,batch_size=batch_size,validation_data=(X_test, Y_test),\n",
    "                     epochs=epochs)"
   ]
  },
  {
   "cell_type": "code",
   "execution_count": 20,
   "metadata": {
    "ExecuteTime": {
     "end_time": "2018-11-08T13:15:04.169877Z",
     "start_time": "2018-11-08T13:14:55.270658Z"
    }
   },
   "outputs": [
    {
     "name": "stdout",
     "output_type": "stream",
     "text": [
      "Pred                LAYING  SITTING  STANDING  WALKING  WALKING_DOWNSTAIRS  \\\n",
      "True                                                                         \n",
      "LAYING                 510        0         0        0                   0   \n",
      "SITTING                  2      392        81        0                   1   \n",
      "STANDING                 0      107       423        2                   0   \n",
      "WALKING                  0        0         6      459                   5   \n",
      "WALKING_DOWNSTAIRS       0        0         0        1                 418   \n",
      "WALKING_UPSTAIRS         0        1         1       10                  17   \n",
      "\n",
      "Pred                WALKING_UPSTAIRS  \n",
      "True                                  \n",
      "LAYING                            27  \n",
      "SITTING                           15  \n",
      "STANDING                           0  \n",
      "WALKING                           26  \n",
      "WALKING_DOWNSTAIRS                 1  \n",
      "WALKING_UPSTAIRS                 442  \n"
     ]
    }
   ],
   "source": [
    "# Confusion Matrix\n",
    "print(confusion_matrix(Y_test, model1.predict(X_test)))"
   ]
  },
  {
   "cell_type": "code",
   "execution_count": 21,
   "metadata": {
    "ExecuteTime": {
     "end_time": "2018-11-08T13:15:17.156497Z",
     "start_time": "2018-11-08T13:15:07.827427Z"
    }
   },
   "outputs": [
    {
     "name": "stdout",
     "output_type": "stream",
     "text": [
      "2947/2947 [==============================] - 9s 3ms/step\n"
     ]
    }
   ],
   "source": [
    "score = model1.evaluate(X_test, Y_test)"
   ]
  },
  {
   "cell_type": "code",
   "execution_count": 22,
   "metadata": {
    "ExecuteTime": {
     "end_time": "2018-11-08T13:15:21.237916Z",
     "start_time": "2018-11-08T13:15:21.225948Z"
    }
   },
   "outputs": [
    {
     "data": {
      "text/plain": [
       "[0.379760792548977, 0.8971835765184933]"
      ]
     },
     "execution_count": 22,
     "metadata": {},
     "output_type": "execute_result"
    }
   ],
   "source": [
    "score"
   ]
  },
  {
   "cell_type": "code",
   "execution_count": 23,
   "metadata": {
    "ExecuteTime": {
     "end_time": "2018-11-08T13:15:26.899771Z",
     "start_time": "2018-11-08T13:15:26.521783Z"
    }
   },
   "outputs": [
    {
     "data": {
      "image/png": "[encoded data removed]",
      "text/plain": [
       "<Figure size 432x288 with 1 Axes>"
      ]
     },
     "metadata": {},
     "output_type": "display_data"
    }
   ],
   "source": [
    "import matplotlib.pyplot as plt\n",
    "%matplotlib inline\n",
    "plt.plot(history.history['acc'])\n",
    "plt.plot(history.history['val_acc'])\n",
    "plt.xlabel(\"Numbers of epochs\")\n",
    "plt.ylabel(\"Accuracy\")\n",
    "plt.title(\"Accuracy summary\")\n",
    "plt.legend(['Train','Test'],loc='upper left')\n",
    "plt.show()"
   ]
  },
  {
   "cell_type": "code",
   "execution_count": 24,
   "metadata": {
    "ExecuteTime": {
     "end_time": "2018-11-08T13:15:33.518496Z",
     "start_time": "2018-11-08T13:15:33.372853Z"
    }
   },
   "outputs": [
    {
     "data": {
      "image/png": "[encoded data removed]",
      "text/plain": [
       "<Figure size 432x288 with 1 Axes>"
      ]
     },
     "metadata": {},
     "output_type": "display_data"
    }
   ],
   "source": [
    "plt.plot(history.history['loss'])\n",
    "plt.plot(history.history['val_loss'])\n",
    "plt.xlabel(\"Numbers of epochs\")\n",
    "plt.ylabel(\"Loss\")\n",
    "plt.title(\"Loss summary\")\n",
    "plt.legend(['Train','Test'],loc='best')\n",
    "plt.show()"
   ]
  },
  {
   "cell_type": "markdown",
   "metadata": {},
   "source": [
    "### model 2 with single LSTM and 64 LSTM neuron units"
   ]
  },
  {
   "cell_type": "code",
   "execution_count": 25,
   "metadata": {
    "ExecuteTime": {
     "end_time": "2018-11-08T13:17:01.055525Z",
     "start_time": "2018-11-08T13:17:00.701473Z"
    }
   },
   "outputs": [
    {
     "name": "stdout",
     "output_type": "stream",
     "text": [
      "_________________________________________________________________\n",
      "Layer (type)                 Output Shape              Param #   \n",
      "=================================================================\n",
      "lstm_2 (LSTM)                (None, 64)                18944     \n",
      "_________________________________________________________________\n",
      "dropout_2 (Dropout)          (None, 64)                0         \n",
      "_________________________________________________________________\n",
      "dense_2 (Dense)              (None, 6)                 390       \n",
      "=================================================================\n",
      "Total params: 19,334\n",
      "Trainable params: 19,334\n",
      "Non-trainable params: 0\n",
      "_________________________________________________________________\n"
     ]
    }
   ],
   "source": [
    "# Initiliazing the sequential model\n",
    "model2 = Sequential()\n",
    "# Configuring the parameters\n",
    "model2.add(LSTM(64,input_shape=(timesteps, input_dim)))\n",
    "# Adding a dropout layer\n",
    "model2.add(Dropout(0.5))\n",
    "# Adding a dense output layer with sigmoid activation\n",
    "model2.add(Dense(n_classes,activation='sigmoid'))\n",
    "model2.summary()\n"
   ]
  },
  {
   "cell_type": "code",
   "execution_count": 26,
   "metadata": {
    "ExecuteTime": {
     "end_time": "2018-11-08T13:17:14.340947Z",
     "start_time": "2018-11-08T13:17:14.303050Z"
    }
   },
   "outputs": [],
   "source": [
    "# Compiling the model\n",
    "model2.compile(loss='categorical_crossentropy',optimizer='rmsprop',metrics=['accuracy'])"
   ]
  },
  {
   "cell_type": "code",
   "execution_count": 27,
   "metadata": {
    "ExecuteTime": {
     "end_time": "2018-11-08T14:08:46.099568Z",
     "start_time": "2018-11-08T13:17:41.766076Z"
    },
    "scrolled": false
   },
   "outputs": [
    {
     "name": "stdout",
     "output_type": "stream",
     "text": [
      "Train on 7352 samples, validate on 2947 samples\n",
      "Epoch 1/150\n",
      "7352/7352 [==============================] - 19s 3ms/step - loss: 1.4832 - acc: 0.3648 - val_loss: 1.4112 - val_acc: 0.3682\n",
      "Epoch 2/150\n",
      "7352/7352 [==============================] - 20s 3ms/step - loss: 1.2628 - acc: 0.4634 - val_loss: 1.2453 - val_acc: 0.4408\n",
      "Epoch 3/150\n",
      "7352/7352 [==============================] - 23s 3ms/step - loss: 1.2136 - acc: 0.4771 - val_loss: 1.2227 - val_acc: 0.5029\n",
      "Epoch 4/150\n",
      "7352/7352 [==============================] - 19s 3ms/step - loss: 1.1383 - acc: 0.4924 - val_loss: 1.1433 - val_acc: 0.4869\n",
      "Epoch 5/150\n",
      "7352/7352 [==============================] - 18s 2ms/step - loss: 1.1020 - acc: 0.5069 - val_loss: 1.1588 - val_acc: 0.4574\n",
      "Epoch 6/150\n",
      "7352/7352 [==============================] - 19s 3ms/step - loss: 1.0799 - acc: 0.5207 - val_loss: 1.0750 - val_acc: 0.5341\n",
      "Epoch 7/150\n",
      "7352/7352 [==============================] - 19s 3ms/step - loss: 0.9994 - acc: 0.5653 - val_loss: 0.9610 - val_acc: 0.5965\n",
      "Epoch 8/150\n",
      "7352/7352 [==============================] - 21s 3ms/step - loss: 0.8668 - acc: 0.6279 - val_loss: 0.8924 - val_acc: 0.5799\n",
      "Epoch 9/150\n",
      "7352/7352 [==============================] - 21s 3ms/step - loss: 0.8110 - acc: 0.6510 - val_loss: 0.8679 - val_acc: 0.6522\n",
      "Epoch 10/150\n",
      "7352/7352 [==============================] - 18s 2ms/step - loss: 0.7680 - acc: 0.6663 - val_loss: 0.7847 - val_acc: 0.6960\n",
      "Epoch 11/150\n",
      "7352/7352 [==============================] - 20s 3ms/step - loss: 0.7441 - acc: 0.6704 - val_loss: 0.8231 - val_acc: 0.6647\n",
      "Epoch 12/150\n",
      "7352/7352 [==============================] - 21s 3ms/step - loss: 0.6934 - acc: 0.7029 - val_loss: 0.7502 - val_acc: 0.7007\n",
      "Epoch 13/150\n",
      "7352/7352 [==============================] - 22s 3ms/step - loss: 0.7004 - acc: 0.7198 - val_loss: 0.6977 - val_acc: 0.7143\n",
      "Epoch 14/150\n",
      "7352/7352 [==============================] - 22s 3ms/step - loss: 0.6211 - acc: 0.7435 - val_loss: 0.7697 - val_acc: 0.6895\n",
      "Epoch 15/150\n",
      "7352/7352 [==============================] - 22s 3ms/step - loss: 0.6125 - acc: 0.7360 - val_loss: 0.8903 - val_acc: 0.6559\n",
      "Epoch 16/150\n",
      "7352/7352 [==============================] - 22s 3ms/step - loss: 0.5748 - acc: 0.7560 - val_loss: 0.6490 - val_acc: 0.7170\n",
      "Epoch 17/150\n",
      "7352/7352 [==============================] - 21s 3ms/step - loss: 0.5482 - acc: 0.7662 - val_loss: 0.6397 - val_acc: 0.7486\n",
      "Epoch 18/150\n",
      "7352/7352 [==============================] - 21s 3ms/step - loss: 0.5436 - acc: 0.7767 - val_loss: 0.6099 - val_acc: 0.7438\n",
      "Epoch 19/150\n",
      "7352/7352 [==============================] - 22s 3ms/step - loss: 0.5051 - acc: 0.7836 - val_loss: 0.6790 - val_acc: 0.7184\n",
      "Epoch 20/150\n",
      "7352/7352 [==============================] - 22s 3ms/step - loss: 0.4921 - acc: 0.7942 - val_loss: 0.5517 - val_acc: 0.7540\n",
      "Epoch 21/150\n",
      "7352/7352 [==============================] - 19s 3ms/step - loss: 0.4834 - acc: 0.7905 - val_loss: 0.5913 - val_acc: 0.7516\n",
      "Epoch 22/150\n",
      "7352/7352 [==============================] - 17s 2ms/step - loss: 0.4942 - acc: 0.7923 - val_loss: 0.6294 - val_acc: 0.7618\n",
      "Epoch 23/150\n",
      "7352/7352 [==============================] - 18s 2ms/step - loss: 0.6722 - acc: 0.7386 - val_loss: 0.6196 - val_acc: 0.7282\n",
      "Epoch 24/150\n",
      "7352/7352 [==============================] - 20s 3ms/step - loss: 0.4726 - acc: 0.8088 - val_loss: 1.3371 - val_acc: 0.6261\n",
      "Epoch 25/150\n",
      "7352/7352 [==============================] - 19s 3ms/step - loss: 0.4262 - acc: 0.8300 - val_loss: 0.4911 - val_acc: 0.7927\n",
      "Epoch 26/150\n",
      "7352/7352 [==============================] - 18s 2ms/step - loss: 0.4452 - acc: 0.8430 - val_loss: 0.6864 - val_acc: 0.7662\n",
      "Epoch 27/150\n",
      "7352/7352 [==============================] - 19s 3ms/step - loss: 0.4289 - acc: 0.8369 - val_loss: 0.5333 - val_acc: 0.7492\n",
      "Epoch 28/150\n",
      "7352/7352 [==============================] - 20s 3ms/step - loss: 0.4063 - acc: 0.8589 - val_loss: 0.5419 - val_acc: 0.7879\n",
      "Epoch 29/150\n",
      "7352/7352 [==============================] - 19s 3ms/step - loss: 0.3880 - acc: 0.8576 - val_loss: 0.4309 - val_acc: 0.8202\n",
      "Epoch 30/150\n",
      "7352/7352 [==============================] - 19s 3ms/step - loss: 0.3455 - acc: 0.8829 - val_loss: 0.3907 - val_acc: 0.8385\n",
      "Epoch 31/150\n",
      "7352/7352 [==============================] - 60s 8ms/step - loss: 0.3029 - acc: 0.9051 - val_loss: 0.3570 - val_acc: 0.8633\n",
      "Epoch 32/150\n",
      "7352/7352 [==============================] - 38s 5ms/step - loss: 0.2915 - acc: 0.9070 - val_loss: 0.5759 - val_acc: 0.7957\n",
      "Epoch 33/150\n",
      "7352/7352 [==============================] - 20s 3ms/step - loss: 0.2799 - acc: 0.9153 - val_loss: 0.4633 - val_acc: 0.8412\n",
      "Epoch 34/150\n",
      "7352/7352 [==============================] - 20s 3ms/step - loss: 0.2561 - acc: 0.9204 - val_loss: 0.3793 - val_acc: 0.8772\n",
      "Epoch 35/150\n",
      "7352/7352 [==============================] - 18s 3ms/step - loss: 0.2228 - acc: 0.9268 - val_loss: 0.6284 - val_acc: 0.8154\n",
      "Epoch 36/150\n",
      "7352/7352 [==============================] - 18s 2ms/step - loss: 0.2249 - acc: 0.9289 - val_loss: 0.3307 - val_acc: 0.8877\n",
      "Epoch 37/150\n",
      "7352/7352 [==============================] - 18s 2ms/step - loss: 0.2200 - acc: 0.9289 - val_loss: 0.4617 - val_acc: 0.8639\n",
      "Epoch 38/150\n",
      "7352/7352 [==============================] - 18s 2ms/step - loss: 0.2146 - acc: 0.9289 - val_loss: 0.5114 - val_acc: 0.8280\n",
      "Epoch 39/150\n",
      "7352/7352 [==============================] - 18s 2ms/step - loss: 0.2208 - acc: 0.9274 - val_loss: 0.4075 - val_acc: 0.8755\n",
      "Epoch 40/150\n",
      "7352/7352 [==============================] - 20s 3ms/step - loss: 0.2252 - acc: 0.9293 - val_loss: 0.5927 - val_acc: 0.8609\n",
      "Epoch 41/150\n",
      "7352/7352 [==============================] - 21s 3ms/step - loss: 0.2046 - acc: 0.9329 - val_loss: 0.3456 - val_acc: 0.8744\n",
      "Epoch 42/150\n",
      "7352/7352 [==============================] - 22s 3ms/step - loss: 0.1863 - acc: 0.9350 - val_loss: 0.4016 - val_acc: 0.8660\n",
      "Epoch 43/150\n",
      "7352/7352 [==============================] - 21s 3ms/step - loss: 0.1613 - acc: 0.9429 - val_loss: 0.5411 - val_acc: 0.8765\n",
      "Epoch 44/150\n",
      "7352/7352 [==============================] - 21s 3ms/step - loss: 0.1788 - acc: 0.9391 - val_loss: 0.4106 - val_acc: 0.8911\n",
      "Epoch 45/150\n",
      "7352/7352 [==============================] - 21s 3ms/step - loss: 0.1865 - acc: 0.9370 - val_loss: 0.5549 - val_acc: 0.8843\n",
      "Epoch 46/150\n",
      "7352/7352 [==============================] - 21s 3ms/step - loss: 0.1680 - acc: 0.9419 - val_loss: 0.3981 - val_acc: 0.8897\n",
      "Epoch 47/150\n",
      "7352/7352 [==============================] - 21s 3ms/step - loss: 0.1705 - acc: 0.9430 - val_loss: 0.4493 - val_acc: 0.8911\n",
      "Epoch 48/150\n",
      "7352/7352 [==============================] - 22s 3ms/step - loss: 0.1515 - acc: 0.9440 - val_loss: 0.4525 - val_acc: 0.8924\n",
      "Epoch 49/150\n",
      "7352/7352 [==============================] - 21s 3ms/step - loss: 0.1570 - acc: 0.9456 - val_loss: 0.3376 - val_acc: 0.8931\n",
      "Epoch 50/150\n",
      "7352/7352 [==============================] - 21s 3ms/step - loss: 0.1379 - acc: 0.9486 - val_loss: 0.4029 - val_acc: 0.8972\n",
      "Epoch 51/150\n",
      "7352/7352 [==============================] - 21s 3ms/step - loss: 0.1378 - acc: 0.9501 - val_loss: 0.5187 - val_acc: 0.8863\n",
      "Epoch 52/150\n",
      "7352/7352 [==============================] - 22s 3ms/step - loss: 0.1511 - acc: 0.9455 - val_loss: 0.2806 - val_acc: 0.9060\n",
      "Epoch 53/150\n",
      "7352/7352 [==============================] - 21s 3ms/step - loss: 0.1529 - acc: 0.9446 - val_loss: 0.5930 - val_acc: 0.8738\n",
      "Epoch 54/150\n",
      "7352/7352 [==============================] - 21s 3ms/step - loss: 0.1618 - acc: 0.9464 - val_loss: 0.4203 - val_acc: 0.9131\n",
      "Epoch 55/150\n",
      "7352/7352 [==============================] - 21s 3ms/step - loss: 0.1450 - acc: 0.9459 - val_loss: 0.3740 - val_acc: 0.9233\n",
      "Epoch 56/150\n",
      "7352/7352 [==============================] - 21s 3ms/step - loss: 0.1380 - acc: 0.9482 - val_loss: 0.3030 - val_acc: 0.9213\n",
      "Epoch 57/150\n",
      "7352/7352 [==============================] - 21s 3ms/step - loss: 0.1297 - acc: 0.9505 - val_loss: 0.3824 - val_acc: 0.9138\n",
      "Epoch 58/150\n",
      "7352/7352 [==============================] - 21s 3ms/step - loss: 0.1385 - acc: 0.9506 - val_loss: 0.4033 - val_acc: 0.8985\n",
      "Epoch 59/150\n",
      "7352/7352 [==============================] - 21s 3ms/step - loss: 0.1209 - acc: 0.9525 - val_loss: 0.5000 - val_acc: 0.8931\n",
      "Epoch 60/150\n",
      "7352/7352 [==============================] - 21s 3ms/step - loss: 0.1559 - acc: 0.9489 - val_loss: 0.4502 - val_acc: 0.9030\n",
      "Epoch 61/150\n",
      "7352/7352 [==============================] - 21s 3ms/step - loss: 0.1270 - acc: 0.9508 - val_loss: 0.3570 - val_acc: 0.9114\n",
      "Epoch 62/150\n",
      "7352/7352 [==============================] - 21s 3ms/step - loss: 0.1326 - acc: 0.9501 - val_loss: 0.3969 - val_acc: 0.9057\n",
      "Epoch 63/150\n",
      "7352/7352 [==============================] - 21s 3ms/step - loss: 0.1289 - acc: 0.9463 - val_loss: 0.3674 - val_acc: 0.8890\n",
      "Epoch 64/150\n",
      "7352/7352 [==============================] - 21s 3ms/step - loss: 0.1398 - acc: 0.9465 - val_loss: 0.3477 - val_acc: 0.9162\n",
      "Epoch 65/150\n",
      "7352/7352 [==============================] - 21s 3ms/step - loss: 0.1213 - acc: 0.9521 - val_loss: 0.3281 - val_acc: 0.9108\n",
      "Epoch 66/150\n",
      "7352/7352 [==============================] - 21s 3ms/step - loss: 0.1188 - acc: 0.9525 - val_loss: 0.3743 - val_acc: 0.9026\n",
      "Epoch 67/150\n",
      "7352/7352 [==============================] - 21s 3ms/step - loss: 0.1493 - acc: 0.9471 - val_loss: 0.3318 - val_acc: 0.9074\n",
      "Epoch 68/150\n",
      "7352/7352 [==============================] - 21s 3ms/step - loss: 0.1248 - acc: 0.9501 - val_loss: 0.3559 - val_acc: 0.8931\n",
      "Epoch 69/150\n",
      "7352/7352 [==============================] - 21s 3ms/step - loss: 0.1653 - acc: 0.9476 - val_loss: 0.2894 - val_acc: 0.9114\n",
      "Epoch 70/150\n",
      "7352/7352 [==============================] - 21s 3ms/step - loss: 0.1320 - acc: 0.9490 - val_loss: 0.3508 - val_acc: 0.9030\n",
      "Epoch 71/150\n",
      "7352/7352 [==============================] - 21s 3ms/step - loss: 0.1236 - acc: 0.9513 - val_loss: 0.3051 - val_acc: 0.9077\n",
      "Epoch 72/150\n",
      "7352/7352 [==============================] - 21s 3ms/step - loss: 0.1458 - acc: 0.9490 - val_loss: 0.3473 - val_acc: 0.9077\n",
      "Epoch 73/150\n",
      "7352/7352 [==============================] - 21s 3ms/step - loss: 0.1564 - acc: 0.9461 - val_loss: 0.3579 - val_acc: 0.8955\n",
      "Epoch 74/150\n",
      "7352/7352 [==============================] - 21s 3ms/step - loss: 0.1271 - acc: 0.9509 - val_loss: 0.2656 - val_acc: 0.9189\n",
      "Epoch 75/150\n",
      "7352/7352 [==============================] - 21s 3ms/step - loss: 0.1459 - acc: 0.9479 - val_loss: 0.4907 - val_acc: 0.8714\n",
      "Epoch 76/150\n",
      "7352/7352 [==============================] - 21s 3ms/step - loss: 0.1146 - acc: 0.9557 - val_loss: 0.2982 - val_acc: 0.9209\n",
      "Epoch 77/150\n",
      "7352/7352 [==============================] - 21s 3ms/step - loss: 0.1258 - acc: 0.9533 - val_loss: 0.4305 - val_acc: 0.8907\n",
      "Epoch 78/150\n",
      "7352/7352 [==============================] - 21s 3ms/step - loss: 0.1213 - acc: 0.9523 - val_loss: 0.3253 - val_acc: 0.9067\n",
      "Epoch 79/150\n",
      "7352/7352 [==============================] - 21s 3ms/step - loss: 0.1133 - acc: 0.9539 - val_loss: 0.3694 - val_acc: 0.9101\n",
      "Epoch 80/150\n",
      "7352/7352 [==============================] - 21s 3ms/step - loss: 0.1140 - acc: 0.9540 - val_loss: 0.3964 - val_acc: 0.9104\n",
      "Epoch 81/150\n",
      "7352/7352 [==============================] - 21s 3ms/step - loss: 0.1223 - acc: 0.9484 - val_loss: 0.3332 - val_acc: 0.9121\n",
      "Epoch 82/150\n",
      "7352/7352 [==============================] - 21s 3ms/step - loss: 0.1063 - acc: 0.9535 - val_loss: 0.3501 - val_acc: 0.9121\n",
      "Epoch 83/150\n",
      "7352/7352 [==============================] - 21s 3ms/step - loss: 0.1111 - acc: 0.9548 - val_loss: 0.3935 - val_acc: 0.9114\n",
      "Epoch 84/150\n",
      "7352/7352 [==============================] - 21s 3ms/step - loss: 0.1146 - acc: 0.9555 - val_loss: 0.3456 - val_acc: 0.9118\n",
      "Epoch 85/150\n",
      "7352/7352 [==============================] - 21s 3ms/step - loss: 0.1082 - acc: 0.9557 - val_loss: 0.3571 - val_acc: 0.9172\n",
      "Epoch 86/150\n",
      "7352/7352 [==============================] - 21s 3ms/step - loss: 0.1224 - acc: 0.9517 - val_loss: 0.3891 - val_acc: 0.9050\n",
      "Epoch 87/150\n",
      "7352/7352 [==============================] - 21s 3ms/step - loss: 0.1322 - acc: 0.9506 - val_loss: 0.3589 - val_acc: 0.9186\n",
      "Epoch 88/150\n",
      "7352/7352 [==============================] - 21s 3ms/step - loss: 0.1157 - acc: 0.9504 - val_loss: 0.3559 - val_acc: 0.9182\n",
      "Epoch 89/150\n",
      "7352/7352 [==============================] - 21s 3ms/step - loss: 0.1245 - acc: 0.9506 - val_loss: 0.3787 - val_acc: 0.9203\n",
      "Epoch 90/150\n",
      "7352/7352 [==============================] - 22s 3ms/step - loss: 0.1097 - acc: 0.9532 - val_loss: 0.4464 - val_acc: 0.9033\n",
      "Epoch 91/150\n",
      "7352/7352 [==============================] - 21s 3ms/step - loss: 0.1263 - acc: 0.9490 - val_loss: 0.5101 - val_acc: 0.8992\n",
      "Epoch 92/150\n",
      "7352/7352 [==============================] - 21s 3ms/step - loss: 0.1092 - acc: 0.9544 - val_loss: 0.4781 - val_acc: 0.9101\n",
      "Epoch 93/150\n",
      "7352/7352 [==============================] - 21s 3ms/step - loss: 0.1692 - acc: 0.9463 - val_loss: 0.3106 - val_acc: 0.9165\n",
      "Epoch 94/150\n",
      "7352/7352 [==============================] - 21s 3ms/step - loss: 0.1118 - acc: 0.9544 - val_loss: 0.4521 - val_acc: 0.9203\n",
      "Epoch 95/150\n",
      "7352/7352 [==============================] - 21s 3ms/step - loss: 0.1107 - acc: 0.9535 - val_loss: 0.4251 - val_acc: 0.9070\n",
      "Epoch 96/150\n",
      "7352/7352 [==============================] - 21s 3ms/step - loss: 0.1014 - acc: 0.9561 - val_loss: 0.4965 - val_acc: 0.8928\n",
      "Epoch 97/150\n",
      "7352/7352 [==============================] - 21s 3ms/step - loss: 0.1043 - acc: 0.9550 - val_loss: 0.4268 - val_acc: 0.8894\n",
      "Epoch 98/150\n",
      "7352/7352 [==============================] - 21s 3ms/step - loss: 0.1075 - acc: 0.9533 - val_loss: 0.5299 - val_acc: 0.9057\n",
      "Epoch 99/150\n",
      "7352/7352 [==============================] - 21s 3ms/step - loss: 0.1508 - acc: 0.9444 - val_loss: 0.3580 - val_acc: 0.9223\n",
      "Epoch 100/150\n",
      "7352/7352 [==============================] - 21s 3ms/step - loss: 0.1079 - acc: 0.9551 - val_loss: 0.4130 - val_acc: 0.9141\n",
      "Epoch 101/150\n",
      "7352/7352 [==============================] - 21s 3ms/step - loss: 0.1013 - acc: 0.9544 - val_loss: 0.5840 - val_acc: 0.8870\n",
      "Epoch 102/150\n",
      "7352/7352 [==============================] - 21s 3ms/step - loss: 0.1184 - acc: 0.9539 - val_loss: 0.3601 - val_acc: 0.9080\n",
      "Epoch 103/150\n",
      "7352/7352 [==============================] - 21s 3ms/step - loss: 0.0991 - acc: 0.9601 - val_loss: 0.4175 - val_acc: 0.9264\n",
      "Epoch 104/150\n",
      "7352/7352 [==============================] - 21s 3ms/step - loss: 0.1003 - acc: 0.9574 - val_loss: 0.3852 - val_acc: 0.9111\n",
      "Epoch 105/150\n",
      "7352/7352 [==============================] - 21s 3ms/step - loss: 0.1017 - acc: 0.9551 - val_loss: 0.4332 - val_acc: 0.9060\n",
      "Epoch 106/150\n",
      "7352/7352 [==============================] - 22s 3ms/step - loss: 0.0992 - acc: 0.9572 - val_loss: 0.4754 - val_acc: 0.9040\n",
      "Epoch 107/150\n",
      "7352/7352 [==============================] - 19s 3ms/step - loss: 0.1007 - acc: 0.9547 - val_loss: 0.4354 - val_acc: 0.9152\n",
      "Epoch 108/150\n",
      "7352/7352 [==============================] - 19s 3ms/step - loss: 0.1077 - acc: 0.9573 - val_loss: 0.5059 - val_acc: 0.8941\n",
      "Epoch 109/150\n",
      "7352/7352 [==============================] - 18s 2ms/step - loss: 0.1083 - acc: 0.9565 - val_loss: 0.4554 - val_acc: 0.9128\n",
      "Epoch 110/150\n",
      "7352/7352 [==============================] - 17s 2ms/step - loss: 0.0925 - acc: 0.9592 - val_loss: 0.4940 - val_acc: 0.9118\n",
      "Epoch 111/150\n",
      "7352/7352 [==============================] - 20s 3ms/step - loss: 0.1036 - acc: 0.9565 - val_loss: 0.4497 - val_acc: 0.9091\n",
      "Epoch 112/150\n",
      "7352/7352 [==============================] - 21s 3ms/step - loss: 0.0985 - acc: 0.9585 - val_loss: 0.3859 - val_acc: 0.8982\n",
      "Epoch 113/150\n",
      "7352/7352 [==============================] - 20s 3ms/step - loss: 0.0986 - acc: 0.9589 - val_loss: 0.4506 - val_acc: 0.8996\n",
      "Epoch 114/150\n",
      "7352/7352 [==============================] - 20s 3ms/step - loss: 0.1007 - acc: 0.9578 - val_loss: 0.4147 - val_acc: 0.9165\n",
      "Epoch 115/150\n",
      "7352/7352 [==============================] - 20s 3ms/step - loss: 0.0890 - acc: 0.9603 - val_loss: 0.5087 - val_acc: 0.9094\n",
      "Epoch 116/150\n",
      "7352/7352 [==============================] - 19s 3ms/step - loss: 0.0956 - acc: 0.9611 - val_loss: 0.3479 - val_acc: 0.9230\n",
      "Epoch 117/150\n",
      "7352/7352 [==============================] - 18s 2ms/step - loss: 0.0896 - acc: 0.9591 - val_loss: 0.4622 - val_acc: 0.9186\n",
      "Epoch 118/150\n",
      "7352/7352 [==============================] - 18s 2ms/step - loss: 0.0918 - acc: 0.9595 - val_loss: 0.4069 - val_acc: 0.9284\n",
      "Epoch 119/150\n",
      "7352/7352 [==============================] - 20s 3ms/step - loss: 0.0850 - acc: 0.9612 - val_loss: 0.4365 - val_acc: 0.9125\n"
     ]
    },
    {
     "name": "stdout",
     "output_type": "stream",
     "text": [
      "Epoch 120/150\n",
      "7352/7352 [==============================] - 23s 3ms/step - loss: 0.0876 - acc: 0.9611 - val_loss: 0.4409 - val_acc: 0.9145\n",
      "Epoch 121/150\n",
      "7352/7352 [==============================] - 20s 3ms/step - loss: 0.0880 - acc: 0.9607 - val_loss: 0.5901 - val_acc: 0.9009\n",
      "Epoch 122/150\n",
      "7352/7352 [==============================] - 17s 2ms/step - loss: 0.0940 - acc: 0.9616 - val_loss: 0.4040 - val_acc: 0.9006\n",
      "Epoch 123/150\n",
      "7352/7352 [==============================] - 17s 2ms/step - loss: 0.0872 - acc: 0.9600 - val_loss: 0.4892 - val_acc: 0.9101\n",
      "Epoch 124/150\n",
      "7352/7352 [==============================] - 17s 2ms/step - loss: 0.0841 - acc: 0.9597 - val_loss: 0.7206 - val_acc: 0.8972\n",
      "Epoch 125/150\n",
      "7352/7352 [==============================] - 17s 2ms/step - loss: 0.0898 - acc: 0.9596 - val_loss: 0.4337 - val_acc: 0.9101\n",
      "Epoch 126/150\n",
      "7352/7352 [==============================] - 18s 2ms/step - loss: 0.0876 - acc: 0.9618 - val_loss: 0.4438 - val_acc: 0.8985\n",
      "Epoch 127/150\n",
      "7352/7352 [==============================] - 17s 2ms/step - loss: 0.1154 - acc: 0.9592 - val_loss: 0.7080 - val_acc: 0.8951\n",
      "Epoch 128/150\n",
      "7352/7352 [==============================] - 18s 2ms/step - loss: 0.0991 - acc: 0.9610 - val_loss: 0.5178 - val_acc: 0.9009\n",
      "Epoch 129/150\n",
      "7352/7352 [==============================] - 18s 3ms/step - loss: 0.0741 - acc: 0.9642 - val_loss: 0.4806 - val_acc: 0.9019\n",
      "Epoch 130/150\n",
      "7352/7352 [==============================] - 18s 2ms/step - loss: 0.0819 - acc: 0.9633 - val_loss: 0.3862 - val_acc: 0.9026\n",
      "Epoch 131/150\n",
      "7352/7352 [==============================] - 18s 2ms/step - loss: 0.0809 - acc: 0.9621 - val_loss: 0.5859 - val_acc: 0.9097\n",
      "Epoch 132/150\n",
      "7352/7352 [==============================] - 18s 2ms/step - loss: 0.0902 - acc: 0.9615 - val_loss: 0.4389 - val_acc: 0.9084\n",
      "Epoch 133/150\n",
      "7352/7352 [==============================] - 17s 2ms/step - loss: 0.0849 - acc: 0.9614 - val_loss: 0.4882 - val_acc: 0.9077\n",
      "Epoch 134/150\n",
      "7352/7352 [==============================] - 17s 2ms/step - loss: 0.0802 - acc: 0.9621 - val_loss: 0.6001 - val_acc: 0.8985\n",
      "Epoch 135/150\n",
      "7352/7352 [==============================] - 17s 2ms/step - loss: 0.0801 - acc: 0.9631 - val_loss: 0.4122 - val_acc: 0.9148\n",
      "Epoch 136/150\n",
      "7352/7352 [==============================] - 17s 2ms/step - loss: 0.0743 - acc: 0.9630 - val_loss: 0.4895 - val_acc: 0.9070\n",
      "Epoch 137/150\n",
      "7352/7352 [==============================] - 17s 2ms/step - loss: 0.0762 - acc: 0.9653 - val_loss: 0.4474 - val_acc: 0.9108\n",
      "Epoch 138/150\n",
      "7352/7352 [==============================] - 17s 2ms/step - loss: 0.0748 - acc: 0.9637 - val_loss: 0.4843 - val_acc: 0.8958\n",
      "Epoch 139/150\n",
      "7352/7352 [==============================] - 27s 4ms/step - loss: 0.0837 - acc: 0.9627 - val_loss: 0.5640 - val_acc: 0.9053\n",
      "Epoch 140/150\n",
      "7352/7352 [==============================] - 24s 3ms/step - loss: 0.0897 - acc: 0.9631 - val_loss: 0.5382 - val_acc: 0.8897\n",
      "Epoch 141/150\n",
      "7352/7352 [==============================] - 22s 3ms/step - loss: 0.0808 - acc: 0.9637 - val_loss: 0.6747 - val_acc: 0.8924\n",
      "Epoch 142/150\n",
      "7352/7352 [==============================] - 21s 3ms/step - loss: 0.0883 - acc: 0.9607 - val_loss: 0.5981 - val_acc: 0.9101\n",
      "Epoch 143/150\n",
      "7352/7352 [==============================] - 18s 2ms/step - loss: 0.0738 - acc: 0.9653 - val_loss: 0.5623 - val_acc: 0.9080\n",
      "Epoch 144/150\n",
      "7352/7352 [==============================] - 17s 2ms/step - loss: 0.0868 - acc: 0.9596 - val_loss: 0.5183 - val_acc: 0.9002\n",
      "Epoch 145/150\n",
      "7352/7352 [==============================] - 17s 2ms/step - loss: 0.0800 - acc: 0.9633 - val_loss: 0.6155 - val_acc: 0.9114\n",
      "Epoch 146/150\n",
      "7352/7352 [==============================] - 18s 2ms/step - loss: 0.0770 - acc: 0.9656 - val_loss: 0.5205 - val_acc: 0.9057\n",
      "Epoch 147/150\n",
      "7352/7352 [==============================] - 18s 2ms/step - loss: 0.0914 - acc: 0.9642 - val_loss: 0.4668 - val_acc: 0.9091\n",
      "Epoch 148/150\n",
      "7352/7352 [==============================] - 17s 2ms/step - loss: 0.0718 - acc: 0.9663 - val_loss: 0.6681 - val_acc: 0.8992\n",
      "Epoch 149/150\n",
      "7352/7352 [==============================] - 17s 2ms/step - loss: 0.0803 - acc: 0.9611 - val_loss: 0.6983 - val_acc: 0.9023\n",
      "Epoch 150/150\n",
      "7352/7352 [==============================] - 18s 2ms/step - loss: 0.0777 - acc: 0.9659 - val_loss: 0.5977 - val_acc: 0.9040\n"
     ]
    }
   ],
   "source": [
    "# Training the model\n",
    "history2 = model2.fit(X_train,Y_train,batch_size=batch_size,validation_data=(X_test, Y_test),\n",
    "                     epochs=150)"
   ]
  },
  {
   "cell_type": "code",
   "execution_count": 28,
   "metadata": {
    "ExecuteTime": {
     "end_time": "2018-11-08T14:09:26.050882Z",
     "start_time": "2018-11-08T14:09:14.019855Z"
    }
   },
   "outputs": [
    {
     "name": "stdout",
     "output_type": "stream",
     "text": [
      "Pred                LAYING  SITTING  STANDING  WALKING  WALKING_DOWNSTAIRS  \\\n",
      "True                                                                         \n",
      "LAYING                 510        0         0        0                   0   \n",
      "SITTING                  0      410        80        1                   0   \n",
      "STANDING                 0      122       410        0                   0   \n",
      "WALKING                  0        0         0      459                  22   \n",
      "WALKING_DOWNSTAIRS       0        0         0        1                 417   \n",
      "WALKING_UPSTAIRS         0        1         0        0                  12   \n",
      "\n",
      "Pred                WALKING_UPSTAIRS  \n",
      "True                                  \n",
      "LAYING                            27  \n",
      "SITTING                            0  \n",
      "STANDING                           0  \n",
      "WALKING                           15  \n",
      "WALKING_DOWNSTAIRS                 2  \n",
      "WALKING_UPSTAIRS                 458  \n"
     ]
    }
   ],
   "source": [
    "# Confusion Matrix\n",
    "print(confusion_matrix(Y_test, model2.predict(X_test)))"
   ]
  },
  {
   "cell_type": "code",
   "execution_count": 29,
   "metadata": {
    "ExecuteTime": {
     "end_time": "2018-11-08T14:09:37.659583Z",
     "start_time": "2018-11-08T14:09:28.686322Z"
    }
   },
   "outputs": [
    {
     "name": "stdout",
     "output_type": "stream",
     "text": [
      "2947/2947 [==============================] - 9s 3ms/step\n"
     ]
    }
   ],
   "source": [
    "score = model2.evaluate(X_test, Y_test)"
   ]
  },
  {
   "cell_type": "code",
   "execution_count": 30,
   "metadata": {
    "ExecuteTime": {
     "end_time": "2018-11-08T14:09:39.589173Z",
     "start_time": "2018-11-08T14:09:39.236000Z"
    }
   },
   "outputs": [
    {
     "data": {
      "text/plain": [
       "[0.5977042395600973, 0.9039701391245334]"
      ]
     },
     "execution_count": 30,
     "metadata": {},
     "output_type": "execute_result"
    }
   ],
   "source": [
    "score"
   ]
  },
  {
   "cell_type": "code",
   "execution_count": 31,
   "metadata": {
    "ExecuteTime": {
     "end_time": "2018-11-08T14:09:45.973294Z",
     "start_time": "2018-11-08T14:09:45.385486Z"
    }
   },
   "outputs": [
    {
     "data": {
      "image/png": "[encoded data removed]",
      "text/plain": [
       "<Figure size 432x288 with 1 Axes>"
      ]
     },
     "metadata": {},
     "output_type": "display_data"
    }
   ],
   "source": [
    "import matplotlib.pyplot as plt\n",
    "%matplotlib inline\n",
    "plt.plot(history2.history['acc'])\n",
    "plt.plot(history2.history['val_acc'])\n",
    "plt.xlabel(\"Numbers of epochs\")\n",
    "plt.ylabel(\"Accuracy\")\n",
    "plt.title(\"Accuracy summary\")\n",
    "plt.legend(['Train','Test'],loc='best')\n",
    "plt.show()"
   ]
  },
  {
   "cell_type": "code",
   "execution_count": 32,
   "metadata": {
    "ExecuteTime": {
     "end_time": "2018-11-08T14:09:50.036601Z",
     "start_time": "2018-11-08T14:09:49.257177Z"
    }
   },
   "outputs": [
    {
     "data": {
      "image/png": "[encoded data removed]",
      "text/plain": [
       "<Figure size 432x288 with 1 Axes>"
      ]
     },
     "metadata": {},
     "output_type": "display_data"
    }
   ],
   "source": [
    "import matplotlib.pyplot as plt\n",
    "%matplotlib inline\n",
    "plt.plot(history2.history['loss'])\n",
    "plt.plot(history2.history['val_loss'])\n",
    "plt.xlabel(\"Numbers of epochs\")\n",
    "plt.ylabel(\"Loss\")\n",
    "plt.title(\"Loss summary\")\n",
    "plt.legend(['Train','Test'],loc='best')\n",
    "plt.show()"
   ]
  },
  {
   "cell_type": "markdown",
   "metadata": {},
   "source": [
    "## Model 3 with 2 LSTM layers and 32 LSTM neurons units"
   ]
  },
  {
   "cell_type": "code",
   "execution_count": 33,
   "metadata": {
    "ExecuteTime": {
     "end_time": "2018-11-08T14:17:26.230035Z",
     "start_time": "2018-11-08T14:17:21.379563Z"
    }
   },
   "outputs": [
    {
     "name": "stdout",
     "output_type": "stream",
     "text": [
      "_________________________________________________________________\n",
      "Layer (type)                 Output Shape              Param #   \n",
      "=================================================================\n",
      "lstm_3 (LSTM)                (None, 128, 32)           5376      \n",
      "_________________________________________________________________\n",
      "dropout_3 (Dropout)          (None, 128, 32)           0         \n",
      "_________________________________________________________________\n",
      "lstm_4 (LSTM)                (None, 32)                8320      \n",
      "_________________________________________________________________\n",
      "dropout_4 (Dropout)          (None, 32)                0         \n",
      "_________________________________________________________________\n",
      "dense_3 (Dense)              (None, 6)                 198       \n",
      "=================================================================\n",
      "Total params: 13,894\n",
      "Trainable params: 13,894\n",
      "Non-trainable params: 0\n",
      "_________________________________________________________________\n"
     ]
    }
   ],
   "source": [
    "# Initiliazing the sequential model\n",
    "model3 = Sequential()\n",
    "# Configuring the parameters\n",
    "model3.add(LSTM(32,input_shape=(timesteps, input_dim),return_sequences=True))\n",
    "# Adding a dropout layer\n",
    "model3.add(Dropout(0.5))\n",
    "model3.add(LSTM(32))\n",
    "model3.add(Dropout(0.5))\n",
    "# Adding a dense output layer with sigmoid activation\n",
    "model3.add(Dense(n_classes,activation='sigmoid'))\n",
    "model3.summary()\n"
   ]
  },
  {
   "cell_type": "code",
   "execution_count": 34,
   "metadata": {
    "ExecuteTime": {
     "end_time": "2018-11-08T14:17:52.103295Z",
     "start_time": "2018-11-08T14:17:51.853882Z"
    }
   },
   "outputs": [],
   "source": [
    "# Compiling the model\n",
    "model3.compile(loss='categorical_crossentropy',optimizer='rmsprop',metrics=['accuracy'])"
   ]
  },
  {
   "cell_type": "code",
   "execution_count": 35,
   "metadata": {
    "ExecuteTime": {
     "end_time": "2018-11-08T15:17:43.306624Z",
     "start_time": "2018-11-08T14:18:16.127460Z"
    }
   },
   "outputs": [
    {
     "name": "stdout",
     "output_type": "stream",
     "text": [
      "Train on 7352 samples, validate on 2947 samples\n",
      "Epoch 1/100\n",
      "7352/7352 [==============================] - 50s 7ms/step - loss: 1.5089 - acc: 0.4200 - val_loss: 1.3547 - val_acc: 0.4208\n",
      "Epoch 2/100\n",
      "7352/7352 [==============================] - 35s 5ms/step - loss: 1.2725 - acc: 0.4882 - val_loss: 1.2151 - val_acc: 0.5110\n",
      "Epoch 3/100\n",
      "7352/7352 [==============================] - 34s 5ms/step - loss: 1.1583 - acc: 0.5243 - val_loss: 1.1136 - val_acc: 0.5219\n",
      "Epoch 4/100\n",
      "7352/7352 [==============================] - 35s 5ms/step - loss: 1.0467 - acc: 0.5827 - val_loss: 1.0232 - val_acc: 0.5619\n",
      "Epoch 5/100\n",
      "7352/7352 [==============================] - 36s 5ms/step - loss: 0.9231 - acc: 0.6175 - val_loss: 0.9304 - val_acc: 0.6291\n",
      "Epoch 6/100\n",
      "7352/7352 [==============================] - 36s 5ms/step - loss: 0.8508 - acc: 0.6378 - val_loss: 0.8052 - val_acc: 0.6783\n",
      "Epoch 7/100\n",
      "7352/7352 [==============================] - 35s 5ms/step - loss: 0.8010 - acc: 0.6453 - val_loss: 0.7770 - val_acc: 0.6634\n",
      "Epoch 8/100\n",
      "7352/7352 [==============================] - 34s 5ms/step - loss: 0.7434 - acc: 0.6638 - val_loss: 0.8951 - val_acc: 0.5721\n",
      "Epoch 9/100\n",
      "7352/7352 [==============================] - 33s 4ms/step - loss: 0.7257 - acc: 0.6714 - val_loss: 0.7319 - val_acc: 0.6892\n",
      "Epoch 10/100\n",
      "7352/7352 [==============================] - 33s 5ms/step - loss: 0.6898 - acc: 0.6895 - val_loss: 0.7318 - val_acc: 0.6956\n",
      "Epoch 11/100\n",
      "7352/7352 [==============================] - 38s 5ms/step - loss: 0.6848 - acc: 0.6782 - val_loss: 0.7349 - val_acc: 0.6868\n",
      "Epoch 12/100\n",
      "7352/7352 [==============================] - 47s 6ms/step - loss: 0.6680 - acc: 0.6948 - val_loss: 0.7663 - val_acc: 0.6851\n",
      "Epoch 13/100\n",
      "7352/7352 [==============================] - 47s 6ms/step - loss: 0.6640 - acc: 0.7168 - val_loss: 0.7314 - val_acc: 0.7228\n",
      "Epoch 14/100\n",
      "7352/7352 [==============================] - 38s 5ms/step - loss: 0.6500 - acc: 0.7137 - val_loss: 0.7356 - val_acc: 0.7234\n",
      "Epoch 15/100\n",
      "7352/7352 [==============================] - 39s 5ms/step - loss: 0.6244 - acc: 0.7307 - val_loss: 0.6926 - val_acc: 0.7424\n",
      "Epoch 16/100\n",
      "7352/7352 [==============================] - 42s 6ms/step - loss: 0.6010 - acc: 0.7779 - val_loss: 0.6960 - val_acc: 0.7642\n",
      "Epoch 17/100\n",
      "7352/7352 [==============================] - 39s 5ms/step - loss: 0.5580 - acc: 0.8050 - val_loss: 0.6097 - val_acc: 0.8025\n",
      "Epoch 18/100\n",
      "7352/7352 [==============================] - 42s 6ms/step - loss: 0.5230 - acc: 0.8218 - val_loss: 0.6635 - val_acc: 0.7842\n",
      "Epoch 19/100\n",
      "7352/7352 [==============================] - 40s 5ms/step - loss: 0.4775 - acc: 0.8502 - val_loss: 0.8133 - val_acc: 0.7401\n",
      "Epoch 20/100\n",
      "7352/7352 [==============================] - 39s 5ms/step - loss: 0.5172 - acc: 0.8379 - val_loss: 0.6025 - val_acc: 0.7910\n",
      "Epoch 21/100\n",
      "7352/7352 [==============================] - 57s 8ms/step - loss: 0.4789 - acc: 0.8406 - val_loss: 0.5727 - val_acc: 0.8134\n",
      "Epoch 22/100\n",
      "7352/7352 [==============================] - 55s 7ms/step - loss: 0.4184 - acc: 0.8731 - val_loss: 0.5267 - val_acc: 0.8157\n",
      "Epoch 23/100\n",
      "7352/7352 [==============================] - 48s 6ms/step - loss: 0.4241 - acc: 0.8726 - val_loss: 0.5618 - val_acc: 0.8324\n",
      "Epoch 24/100\n",
      "7352/7352 [==============================] - 42s 6ms/step - loss: 0.4004 - acc: 0.8731 - val_loss: 0.4536 - val_acc: 0.8578\n",
      "Epoch 25/100\n",
      "7352/7352 [==============================] - 38s 5ms/step - loss: 0.3722 - acc: 0.8902 - val_loss: 0.4661 - val_acc: 0.8673\n",
      "Epoch 26/100\n",
      "7352/7352 [==============================] - 39s 5ms/step - loss: 0.3371 - acc: 0.8987 - val_loss: 0.5242 - val_acc: 0.8514\n",
      "Epoch 27/100\n",
      "7352/7352 [==============================] - 44s 6ms/step - loss: 0.3145 - acc: 0.9021 - val_loss: 0.4603 - val_acc: 0.8683\n",
      "Epoch 28/100\n",
      "7352/7352 [==============================] - 44s 6ms/step - loss: 0.3155 - acc: 0.9007 - val_loss: 0.4006 - val_acc: 0.8758\n",
      "Epoch 29/100\n",
      "7352/7352 [==============================] - 38s 5ms/step - loss: 0.2666 - acc: 0.9204 - val_loss: 0.3591 - val_acc: 0.8867\n",
      "Epoch 30/100\n",
      "7352/7352 [==============================] - 42s 6ms/step - loss: 0.2786 - acc: 0.9168 - val_loss: 0.4229 - val_acc: 0.8704\n",
      "Epoch 31/100\n",
      "7352/7352 [==============================] - 42s 6ms/step - loss: 0.2678 - acc: 0.9165 - val_loss: 0.3300 - val_acc: 0.8955\n",
      "Epoch 32/100\n",
      "7352/7352 [==============================] - 39s 5ms/step - loss: 0.2590 - acc: 0.9218 - val_loss: 0.3702 - val_acc: 0.8884\n",
      "Epoch 33/100\n",
      "7352/7352 [==============================] - 39s 5ms/step - loss: 0.2244 - acc: 0.9305 - val_loss: 0.3718 - val_acc: 0.8880\n",
      "Epoch 34/100\n",
      "7352/7352 [==============================] - 33s 4ms/step - loss: 0.2155 - acc: 0.9342 - val_loss: 0.3960 - val_acc: 0.8829\n",
      "Epoch 35/100\n",
      "7352/7352 [==============================] - 33s 4ms/step - loss: 0.2156 - acc: 0.9323 - val_loss: 0.4019 - val_acc: 0.8802\n",
      "Epoch 36/100\n",
      "7352/7352 [==============================] - 33s 5ms/step - loss: 0.2025 - acc: 0.9387 - val_loss: 0.3924 - val_acc: 0.8935\n",
      "Epoch 37/100\n",
      "7352/7352 [==============================] - 33s 5ms/step - loss: 0.1903 - acc: 0.9397 - val_loss: 0.3435 - val_acc: 0.8989\n",
      "Epoch 38/100\n",
      "7352/7352 [==============================] - 33s 4ms/step - loss: 0.1756 - acc: 0.9403 - val_loss: 0.6315 - val_acc: 0.8381\n",
      "Epoch 39/100\n",
      "7352/7352 [==============================] - 33s 4ms/step - loss: 0.1807 - acc: 0.9429 - val_loss: 0.3010 - val_acc: 0.9023\n",
      "Epoch 40/100\n",
      "7352/7352 [==============================] - 33s 5ms/step - loss: 0.1733 - acc: 0.9384 - val_loss: 0.3442 - val_acc: 0.9077\n",
      "Epoch 41/100\n",
      "7352/7352 [==============================] - 33s 4ms/step - loss: 0.1641 - acc: 0.9460 - val_loss: 0.3134 - val_acc: 0.9080\n",
      "Epoch 42/100\n",
      "7352/7352 [==============================] - 33s 5ms/step - loss: 0.1665 - acc: 0.9411 - val_loss: 0.3073 - val_acc: 0.9111\n",
      "Epoch 43/100\n",
      "7352/7352 [==============================] - 33s 4ms/step - loss: 0.1646 - acc: 0.9431 - val_loss: 0.3451 - val_acc: 0.8982\n",
      "Epoch 44/100\n",
      "7352/7352 [==============================] - 33s 5ms/step - loss: 0.1594 - acc: 0.9463 - val_loss: 0.2955 - val_acc: 0.9043\n",
      "Epoch 45/100\n",
      "7352/7352 [==============================] - 33s 4ms/step - loss: 0.1547 - acc: 0.9468 - val_loss: 0.3721 - val_acc: 0.9009\n",
      "Epoch 46/100\n",
      "7352/7352 [==============================] - 33s 4ms/step - loss: 0.1489 - acc: 0.9502 - val_loss: 0.4061 - val_acc: 0.8860\n",
      "Epoch 47/100\n",
      "7352/7352 [==============================] - 33s 5ms/step - loss: 0.2816 - acc: 0.9257 - val_loss: 0.4715 - val_acc: 0.9002\n",
      "Epoch 48/100\n",
      "7352/7352 [==============================] - 33s 4ms/step - loss: 0.1466 - acc: 0.9501 - val_loss: 0.3875 - val_acc: 0.9084\n",
      "Epoch 49/100\n",
      "7352/7352 [==============================] - 33s 4ms/step - loss: 0.1461 - acc: 0.9483 - val_loss: 0.3790 - val_acc: 0.9026\n",
      "Epoch 50/100\n",
      "7352/7352 [==============================] - 33s 5ms/step - loss: 0.1439 - acc: 0.9484 - val_loss: 0.4287 - val_acc: 0.9006\n",
      "Epoch 51/100\n",
      "7352/7352 [==============================] - 33s 4ms/step - loss: 0.1421 - acc: 0.9513 - val_loss: 0.4089 - val_acc: 0.8897\n",
      "Epoch 52/100\n",
      "7352/7352 [==============================] - 33s 5ms/step - loss: 0.1471 - acc: 0.9484 - val_loss: 0.3174 - val_acc: 0.9084\n",
      "Epoch 53/100\n",
      "7352/7352 [==============================] - 33s 4ms/step - loss: 0.1437 - acc: 0.9480 - val_loss: 0.4178 - val_acc: 0.8982\n",
      "Epoch 54/100\n",
      "7352/7352 [==============================] - 33s 5ms/step - loss: 0.1432 - acc: 0.9455 - val_loss: 0.4638 - val_acc: 0.8890\n",
      "Epoch 55/100\n",
      "7352/7352 [==============================] - 33s 5ms/step - loss: 0.1383 - acc: 0.9468 - val_loss: 0.3441 - val_acc: 0.9165\n",
      "Epoch 56/100\n",
      "7352/7352 [==============================] - 33s 5ms/step - loss: 0.1378 - acc: 0.9468 - val_loss: 0.4071 - val_acc: 0.9118\n",
      "Epoch 57/100\n",
      "7352/7352 [==============================] - 33s 5ms/step - loss: 0.1297 - acc: 0.9490 - val_loss: 0.3174 - val_acc: 0.9111\n",
      "Epoch 58/100\n",
      "7352/7352 [==============================] - 33s 4ms/step - loss: 0.1353 - acc: 0.9509 - val_loss: 0.4382 - val_acc: 0.9111\n",
      "Epoch 59/100\n",
      "7352/7352 [==============================] - 33s 5ms/step - loss: 0.1304 - acc: 0.9505 - val_loss: 0.4088 - val_acc: 0.8951\n",
      "Epoch 60/100\n",
      "7352/7352 [==============================] - 33s 5ms/step - loss: 0.1277 - acc: 0.9524 - val_loss: 0.4159 - val_acc: 0.9108\n",
      "Epoch 61/100\n",
      "7352/7352 [==============================] - 33s 5ms/step - loss: 0.1267 - acc: 0.9516 - val_loss: 0.4140 - val_acc: 0.9118\n",
      "Epoch 62/100\n",
      "7352/7352 [==============================] - 33s 5ms/step - loss: 0.1291 - acc: 0.9490 - val_loss: 0.4474 - val_acc: 0.9063\n",
      "Epoch 63/100\n",
      "7352/7352 [==============================] - 33s 4ms/step - loss: 0.1280 - acc: 0.9536 - val_loss: 0.4286 - val_acc: 0.8989\n",
      "Epoch 64/100\n",
      "7352/7352 [==============================] - 33s 5ms/step - loss: 0.1276 - acc: 0.9543 - val_loss: 0.4372 - val_acc: 0.9040\n",
      "Epoch 65/100\n",
      "7352/7352 [==============================] - 33s 5ms/step - loss: 0.1418 - acc: 0.9509 - val_loss: 0.3915 - val_acc: 0.9050\n",
      "Epoch 66/100\n",
      "7352/7352 [==============================] - 34s 5ms/step - loss: 0.1271 - acc: 0.9510 - val_loss: 0.3527 - val_acc: 0.9108\n",
      "Epoch 67/100\n",
      "7352/7352 [==============================] - 33s 5ms/step - loss: 0.1213 - acc: 0.9505 - val_loss: 0.4904 - val_acc: 0.8931\n",
      "Epoch 68/100\n",
      "7352/7352 [==============================] - 33s 4ms/step - loss: 0.1260 - acc: 0.9529 - val_loss: 0.4070 - val_acc: 0.9087\n",
      "Epoch 69/100\n",
      "7352/7352 [==============================] - 33s 5ms/step - loss: 0.1259 - acc: 0.9512 - val_loss: 0.4111 - val_acc: 0.8996\n",
      "Epoch 70/100\n",
      "7352/7352 [==============================] - 33s 4ms/step - loss: 0.1248 - acc: 0.9524 - val_loss: 0.4131 - val_acc: 0.9023\n",
      "Epoch 71/100\n",
      "7352/7352 [==============================] - 33s 5ms/step - loss: 0.1238 - acc: 0.9523 - val_loss: 0.3838 - val_acc: 0.9046\n",
      "Epoch 72/100\n",
      "7352/7352 [==============================] - 33s 4ms/step - loss: 0.1457 - acc: 0.9512 - val_loss: 0.3988 - val_acc: 0.9050\n",
      "Epoch 73/100\n",
      "7352/7352 [==============================] - 33s 5ms/step - loss: 0.1269 - acc: 0.9517 - val_loss: 0.3403 - val_acc: 0.9165\n",
      "Epoch 74/100\n",
      "7352/7352 [==============================] - 33s 5ms/step - loss: 0.1172 - acc: 0.9544 - val_loss: 0.4340 - val_acc: 0.9002\n",
      "Epoch 75/100\n",
      "7352/7352 [==============================] - 33s 5ms/step - loss: 0.1168 - acc: 0.9499 - val_loss: 0.4462 - val_acc: 0.9108\n",
      "Epoch 76/100\n",
      "7352/7352 [==============================] - 33s 5ms/step - loss: 0.1205 - acc: 0.9527 - val_loss: 0.4172 - val_acc: 0.9094\n",
      "Epoch 77/100\n",
      "7352/7352 [==============================] - 33s 5ms/step - loss: 0.1200 - acc: 0.9525 - val_loss: 0.4710 - val_acc: 0.8958\n",
      "Epoch 78/100\n",
      "7352/7352 [==============================] - 33s 5ms/step - loss: 0.1225 - acc: 0.9529 - val_loss: 0.5193 - val_acc: 0.8901\n",
      "Epoch 79/100\n",
      "7352/7352 [==============================] - 33s 5ms/step - loss: 0.1171 - acc: 0.9525 - val_loss: 0.4344 - val_acc: 0.9077\n",
      "Epoch 80/100\n",
      "7352/7352 [==============================] - 33s 5ms/step - loss: 0.1088 - acc: 0.9538 - val_loss: 0.5128 - val_acc: 0.9030\n",
      "Epoch 81/100\n",
      "7352/7352 [==============================] - 33s 4ms/step - loss: 0.1177 - acc: 0.9570 - val_loss: 0.4274 - val_acc: 0.9179\n",
      "Epoch 82/100\n",
      "7352/7352 [==============================] - 33s 5ms/step - loss: 0.1144 - acc: 0.9562 - val_loss: 0.3823 - val_acc: 0.9050\n",
      "Epoch 83/100\n",
      "7352/7352 [==============================] - 33s 4ms/step - loss: 0.1170 - acc: 0.9542 - val_loss: 0.4445 - val_acc: 0.9077\n",
      "Epoch 84/100\n",
      "7352/7352 [==============================] - 33s 5ms/step - loss: 0.1150 - acc: 0.9558 - val_loss: 0.4151 - val_acc: 0.9135\n",
      "Epoch 85/100\n",
      "7352/7352 [==============================] - 34s 5ms/step - loss: 0.1103 - acc: 0.9539 - val_loss: 0.3807 - val_acc: 0.9182\n",
      "Epoch 86/100\n",
      "7352/7352 [==============================] - 37s 5ms/step - loss: 0.1128 - acc: 0.9551 - val_loss: 0.8144 - val_acc: 0.8731\n",
      "Epoch 87/100\n",
      "7352/7352 [==============================] - 34s 5ms/step - loss: 0.1066 - acc: 0.9544 - val_loss: 0.4429 - val_acc: 0.9111\n",
      "Epoch 88/100\n",
      "7352/7352 [==============================] - 34s 5ms/step - loss: 0.1165 - acc: 0.9557 - val_loss: 0.3960 - val_acc: 0.9060\n",
      "Epoch 89/100\n",
      "7352/7352 [==============================] - 33s 5ms/step - loss: 0.1166 - acc: 0.9533 - val_loss: 0.4558 - val_acc: 0.9030\n",
      "Epoch 90/100\n",
      "7352/7352 [==============================] - 33s 5ms/step - loss: 0.1199 - acc: 0.9544 - val_loss: 0.4695 - val_acc: 0.8958\n",
      "Epoch 91/100\n",
      "7352/7352 [==============================] - 33s 4ms/step - loss: 0.1231 - acc: 0.9553 - val_loss: 0.3944 - val_acc: 0.9141\n",
      "Epoch 92/100\n",
      "7352/7352 [==============================] - 33s 5ms/step - loss: 0.1094 - acc: 0.9558 - val_loss: 0.4561 - val_acc: 0.9009\n",
      "Epoch 93/100\n",
      "7352/7352 [==============================] - 33s 4ms/step - loss: 0.1106 - acc: 0.9536 - val_loss: 0.4309 - val_acc: 0.9131\n",
      "Epoch 94/100\n",
      "7352/7352 [==============================] - 33s 4ms/step - loss: 0.1069 - acc: 0.9524 - val_loss: 0.6638 - val_acc: 0.8843\n",
      "Epoch 95/100\n",
      "7352/7352 [==============================] - 33s 5ms/step - loss: 0.1056 - acc: 0.9551 - val_loss: 0.3886 - val_acc: 0.9287\n",
      "Epoch 96/100\n",
      "7352/7352 [==============================] - 33s 4ms/step - loss: 0.1106 - acc: 0.9544 - val_loss: 0.3942 - val_acc: 0.9152\n",
      "Epoch 97/100\n",
      "7352/7352 [==============================] - 33s 5ms/step - loss: 0.1092 - acc: 0.9555 - val_loss: 0.5120 - val_acc: 0.8989\n",
      "Epoch 98/100\n",
      "7352/7352 [==============================] - 33s 5ms/step - loss: 0.1035 - acc: 0.9555 - val_loss: 0.3614 - val_acc: 0.9165\n",
      "Epoch 99/100\n",
      "7352/7352 [==============================] - 34s 5ms/step - loss: 0.1066 - acc: 0.9558 - val_loss: 0.4028 - val_acc: 0.9213\n",
      "Epoch 100/100\n",
      "7352/7352 [==============================] - 33s 5ms/step - loss: 0.1121 - acc: 0.9491 - val_loss: 0.4626 - val_acc: 0.9182\n"
     ]
    }
   ],
   "source": [
    "# Training the model\n",
    "history3 = model3.fit(X_train,Y_train,batch_size=batch_size,validation_data=(X_test, Y_test),\n",
    "                     epochs=100)"
   ]
  },
  {
   "cell_type": "code",
   "execution_count": 36,
   "metadata": {
    "ExecuteTime": {
     "end_time": "2018-11-08T15:29:58.461088Z",
     "start_time": "2018-11-08T15:29:40.710895Z"
    }
   },
   "outputs": [
    {
     "name": "stdout",
     "output_type": "stream",
     "text": [
      "Pred                LAYING  SITTING  STANDING  WALKING  WALKING_DOWNSTAIRS  \\\n",
      "True                                                                         \n",
      "LAYING                 537        0         0        0                   0   \n",
      "SITTING                  2      362       116        1                   1   \n",
      "STANDING                 0       45       486        1                   0   \n",
      "WALKING                  0        0         0      473                   1   \n",
      "WALKING_DOWNSTAIRS       0        0         0        3                 401   \n",
      "WALKING_UPSTAIRS         0        0         0       23                   1   \n",
      "\n",
      "Pred                WALKING_UPSTAIRS  \n",
      "True                                  \n",
      "LAYING                             0  \n",
      "SITTING                            9  \n",
      "STANDING                           0  \n",
      "WALKING                           22  \n",
      "WALKING_DOWNSTAIRS                16  \n",
      "WALKING_UPSTAIRS                 447  \n"
     ]
    }
   ],
   "source": [
    "# Confusion Matrix\n",
    "print(confusion_matrix(Y_test, model3.predict(X_test)))"
   ]
  },
  {
   "cell_type": "code",
   "execution_count": 37,
   "metadata": {
    "ExecuteTime": {
     "end_time": "2018-11-08T15:30:15.217217Z",
     "start_time": "2018-11-08T15:29:58.480005Z"
    }
   },
   "outputs": [
    {
     "name": "stdout",
     "output_type": "stream",
     "text": [
      "2947/2947 [==============================] - 17s 6ms/step\n"
     ]
    }
   ],
   "source": [
    "scores = model3.evaluate(X_test, Y_test)"
   ]
  },
  {
   "cell_type": "code",
   "execution_count": 38,
   "metadata": {
    "ExecuteTime": {
     "end_time": "2018-11-08T15:30:18.776093Z",
     "start_time": "2018-11-08T15:30:18.762130Z"
    }
   },
   "outputs": [
    {
     "data": {
      "text/plain": [
       "[0.4626269695854334, 0.9182219205972175]"
      ]
     },
     "execution_count": 38,
     "metadata": {},
     "output_type": "execute_result"
    }
   ],
   "source": [
    "scores"
   ]
  },
  {
   "cell_type": "code",
   "execution_count": 39,
   "metadata": {
    "ExecuteTime": {
     "end_time": "2018-11-08T15:30:32.256458Z",
     "start_time": "2018-11-08T15:30:31.853537Z"
    }
   },
   "outputs": [
    {
     "data": {
      "image/png": "[encoded data removed]",
      "text/plain": [
       "<Figure size 432x288 with 1 Axes>"
      ]
     },
     "metadata": {},
     "output_type": "display_data"
    }
   ],
   "source": [
    "import matplotlib.pyplot as plt\n",
    "%matplotlib inline\n",
    "plt.plot(history3.history['acc'])\n",
    "plt.plot(history3.history['val_acc'])\n",
    "plt.xlabel(\"Numbers of epochs\")\n",
    "plt.ylabel(\"Accuracy\")\n",
    "plt.title(\"Accuracy summary\")\n",
    "plt.legend(['Train','Test'],loc='best')\n",
    "plt.show()"
   ]
  },
  {
   "cell_type": "code",
   "execution_count": 40,
   "metadata": {
    "ExecuteTime": {
     "end_time": "2018-11-08T15:30:39.042736Z",
     "start_time": "2018-11-08T15:30:38.738546Z"
    }
   },
   "outputs": [
    {
     "data": {
      "image/png": "[encoded data removed]",
      "text/plain": [
       "<Figure size 432x288 with 1 Axes>"
      ]
     },
     "metadata": {},
     "output_type": "display_data"
    }
   ],
   "source": [
    "import matplotlib.pyplot as plt\n",
    "%matplotlib inline\n",
    "plt.plot(history3.history['loss'])\n",
    "plt.plot(history3.history['val_loss'])\n",
    "plt.xlabel(\"Numbers of epochs\")\n",
    "plt.ylabel(\"Loss\")\n",
    "plt.title(\"Loss summary\")\n",
    "plt.legend(['Train','Test'],loc='best')\n",
    "plt.show()"
   ]
  },
  {
   "cell_type": "markdown",
   "metadata": {},
   "source": [
    "## Model 4 with 2 LSTM layers and 64 LSTM neurons units"
   ]
  },
  {
   "cell_type": "code",
   "execution_count": 44,
   "metadata": {
    "ExecuteTime": {
     "end_time": "2018-11-08T15:37:04.429945Z",
     "start_time": "2018-11-08T15:37:04.135734Z"
    }
   },
   "outputs": [
    {
     "name": "stdout",
     "output_type": "stream",
     "text": [
      "_________________________________________________________________\n",
      "Layer (type)                 Output Shape              Param #   \n",
      "=================================================================\n",
      "lstm_7 (LSTM)                (None, 128, 64)           18944     \n",
      "_________________________________________________________________\n",
      "dropout_7 (Dropout)          (None, 128, 64)           0         \n",
      "_________________________________________________________________\n",
      "lstm_8 (LSTM)                (None, 64)                33024     \n",
      "_________________________________________________________________\n",
      "dropout_8 (Dropout)          (None, 64)                0         \n",
      "_________________________________________________________________\n",
      "dense_5 (Dense)              (None, 6)                 390       \n",
      "=================================================================\n",
      "Total params: 52,358\n",
      "Trainable params: 52,358\n",
      "Non-trainable params: 0\n",
      "_________________________________________________________________\n"
     ]
    }
   ],
   "source": [
    "# Initiliazing the sequential model\n",
    "model4 = Sequential()\n",
    "# Configuring the parameters\n",
    "model4.add(LSTM(64,input_shape=(timesteps, input_dim),return_sequences=True))\n",
    "# Adding a dropout layer\n",
    "model4.add(Dropout(0.5))\n",
    "model4.add(LSTM(64))\n",
    "model4.add(Dropout(0.5))\n",
    "# Adding a dense output layer with sigmoid activation\n",
    "model4.add(Dense(n_classes,activation='sigmoid'))\n",
    "model4.summary()\n"
   ]
  },
  {
   "cell_type": "code",
   "execution_count": 45,
   "metadata": {
    "ExecuteTime": {
     "end_time": "2018-11-08T15:37:07.834445Z",
     "start_time": "2018-11-08T15:37:07.773569Z"
    }
   },
   "outputs": [],
   "source": [
    "# Compiling the model\n",
    "model4.compile(loss='categorical_crossentropy',optimizer='rmsprop',metrics=['accuracy'])"
   ]
  },
  {
   "cell_type": "code",
   "execution_count": 46,
   "metadata": {
    "ExecuteTime": {
     "end_time": "2018-11-08T16:35:29.115684Z",
     "start_time": "2018-11-08T15:37:10.231363Z"
    }
   },
   "outputs": [
    {
     "name": "stdout",
     "output_type": "stream",
     "text": [
      "Train on 7352 samples, validate on 2947 samples\n",
      "Epoch 1/100\n",
      "7352/7352 [==============================] - 35s 5ms/step - loss: 1.3523 - acc: 0.4470 - val_loss: 1.5567 - val_acc: 0.3125\n",
      "Epoch 2/100\n",
      "7352/7352 [==============================] - 36s 5ms/step - loss: 1.1117 - acc: 0.5214 - val_loss: 1.0850 - val_acc: 0.5545\n",
      "Epoch 3/100\n",
      "7352/7352 [==============================] - 34s 5ms/step - loss: 0.9476 - acc: 0.5887 - val_loss: 0.9974 - val_acc: 0.5948\n",
      "Epoch 4/100\n",
      "7352/7352 [==============================] - 33s 4ms/step - loss: 0.8514 - acc: 0.6049 - val_loss: 0.8233 - val_acc: 0.6396\n",
      "Epoch 5/100\n",
      "7352/7352 [==============================] - 33s 4ms/step - loss: 0.7628 - acc: 0.6511 - val_loss: 0.9773 - val_acc: 0.5979\n",
      "Epoch 6/100\n",
      "7352/7352 [==============================] - 33s 4ms/step - loss: 0.7403 - acc: 0.6479 - val_loss: 0.7885 - val_acc: 0.6393\n",
      "Epoch 7/100\n",
      "7352/7352 [==============================] - 33s 5ms/step - loss: 0.7244 - acc: 0.6642 - val_loss: 0.7917 - val_acc: 0.6580\n",
      "Epoch 8/100\n",
      "7352/7352 [==============================] - 33s 5ms/step - loss: 0.6338 - acc: 0.7165 - val_loss: 0.7265 - val_acc: 0.7116\n",
      "Epoch 9/100\n",
      "7352/7352 [==============================] - 33s 4ms/step - loss: 0.5737 - acc: 0.7482 - val_loss: 0.5981 - val_acc: 0.7465\n",
      "Epoch 10/100\n",
      "7352/7352 [==============================] - 33s 4ms/step - loss: 0.4952 - acc: 0.7738 - val_loss: 0.5747 - val_acc: 0.7418\n",
      "Epoch 11/100\n",
      "7352/7352 [==============================] - 33s 4ms/step - loss: 0.4729 - acc: 0.7892 - val_loss: 0.5516 - val_acc: 0.7594\n",
      "Epoch 12/100\n",
      "7352/7352 [==============================] - 33s 4ms/step - loss: 0.4269 - acc: 0.8105 - val_loss: 0.5341 - val_acc: 0.7740\n",
      "Epoch 13/100\n",
      "7352/7352 [==============================] - 33s 5ms/step - loss: 0.3983 - acc: 0.8334 - val_loss: 0.4771 - val_acc: 0.8487\n",
      "Epoch 14/100\n",
      "7352/7352 [==============================] - 33s 4ms/step - loss: 0.3387 - acc: 0.8875 - val_loss: 0.4399 - val_acc: 0.8585\n",
      "Epoch 15/100\n",
      "7352/7352 [==============================] - 33s 4ms/step - loss: 0.2939 - acc: 0.9090 - val_loss: 0.4263 - val_acc: 0.8758\n",
      "Epoch 16/100\n",
      "7352/7352 [==============================] - 33s 5ms/step - loss: 0.2487 - acc: 0.9196 - val_loss: 0.3668 - val_acc: 0.8839\n",
      "Epoch 17/100\n",
      "7352/7352 [==============================] - 33s 5ms/step - loss: 0.2166 - acc: 0.9256 - val_loss: 0.3636 - val_acc: 0.8948\n",
      "Epoch 18/100\n",
      "7352/7352 [==============================] - 33s 5ms/step - loss: 0.1978 - acc: 0.9339 - val_loss: 0.3574 - val_acc: 0.8894\n",
      "Epoch 19/100\n",
      "7352/7352 [==============================] - 33s 4ms/step - loss: 0.1901 - acc: 0.9387 - val_loss: 0.3714 - val_acc: 0.8890\n",
      "Epoch 20/100\n",
      "7352/7352 [==============================] - 33s 5ms/step - loss: 0.1914 - acc: 0.9366 - val_loss: 0.3503 - val_acc: 0.8935\n",
      "Epoch 21/100\n",
      "7352/7352 [==============================] - 33s 5ms/step - loss: 0.1880 - acc: 0.9389 - val_loss: 0.3236 - val_acc: 0.8948\n",
      "Epoch 22/100\n",
      "7352/7352 [==============================] - 33s 4ms/step - loss: 0.1609 - acc: 0.9464 - val_loss: 0.3492 - val_acc: 0.9094\n",
      "Epoch 23/100\n",
      "7352/7352 [==============================] - 33s 5ms/step - loss: 0.1663 - acc: 0.9421 - val_loss: 0.3237 - val_acc: 0.8921\n",
      "Epoch 24/100\n",
      "7352/7352 [==============================] - 33s 4ms/step - loss: 0.1487 - acc: 0.9448 - val_loss: 0.2912 - val_acc: 0.9114\n",
      "Epoch 25/100\n",
      "7352/7352 [==============================] - 33s 5ms/step - loss: 0.1595 - acc: 0.9441 - val_loss: 0.3291 - val_acc: 0.9070\n",
      "Epoch 26/100\n",
      "7352/7352 [==============================] - 33s 4ms/step - loss: 0.1741 - acc: 0.9348 - val_loss: 0.3264 - val_acc: 0.9104\n",
      "Epoch 27/100\n",
      "7352/7352 [==============================] - 33s 5ms/step - loss: 0.1563 - acc: 0.9463 - val_loss: 0.4569 - val_acc: 0.8823\n",
      "Epoch 28/100\n",
      "7352/7352 [==============================] - 33s 5ms/step - loss: 0.1489 - acc: 0.9464 - val_loss: 0.3272 - val_acc: 0.9080\n",
      "Epoch 29/100\n",
      "7352/7352 [==============================] - 33s 4ms/step - loss: 0.1295 - acc: 0.9535 - val_loss: 0.3212 - val_acc: 0.9145\n",
      "Epoch 30/100\n",
      "7352/7352 [==============================] - 33s 5ms/step - loss: 0.1422 - acc: 0.9486 - val_loss: 0.2917 - val_acc: 0.9121\n",
      "Epoch 31/100\n",
      "7352/7352 [==============================] - 33s 4ms/step - loss: 0.1593 - acc: 0.9438 - val_loss: 0.2930 - val_acc: 0.9175\n",
      "Epoch 32/100\n",
      "7352/7352 [==============================] - 34s 5ms/step - loss: 0.1432 - acc: 0.9426 - val_loss: 0.2904 - val_acc: 0.9165\n",
      "Epoch 33/100\n",
      "7352/7352 [==============================] - 33s 4ms/step - loss: 0.1427 - acc: 0.9482 - val_loss: 0.3030 - val_acc: 0.9209\n",
      "Epoch 34/100\n",
      "7352/7352 [==============================] - 33s 4ms/step - loss: 0.1305 - acc: 0.9495 - val_loss: 0.4251 - val_acc: 0.8921\n",
      "Epoch 35/100\n",
      "7352/7352 [==============================] - 33s 4ms/step - loss: 0.1423 - acc: 0.9491 - val_loss: 0.3218 - val_acc: 0.9165\n",
      "Epoch 36/100\n",
      "7352/7352 [==============================] - 33s 5ms/step - loss: 0.1348 - acc: 0.9463 - val_loss: 0.3485 - val_acc: 0.9141\n",
      "Epoch 37/100\n",
      "7352/7352 [==============================] - 33s 5ms/step - loss: 0.1240 - acc: 0.9489 - val_loss: 0.3615 - val_acc: 0.9016\n",
      "Epoch 38/100\n",
      "7352/7352 [==============================] - 33s 4ms/step - loss: 0.1256 - acc: 0.9501 - val_loss: 0.3441 - val_acc: 0.9121\n",
      "Epoch 39/100\n",
      "7352/7352 [==============================] - 33s 4ms/step - loss: 0.1203 - acc: 0.9546 - val_loss: 0.3111 - val_acc: 0.9104\n",
      "Epoch 40/100\n",
      "7352/7352 [==============================] - 33s 5ms/step - loss: 0.1327 - acc: 0.9490 - val_loss: 0.3087 - val_acc: 0.9172\n",
      "Epoch 41/100\n",
      "7352/7352 [==============================] - 33s 4ms/step - loss: 0.1202 - acc: 0.9535 - val_loss: 0.3646 - val_acc: 0.9108\n",
      "Epoch 42/100\n",
      "7352/7352 [==============================] - 33s 5ms/step - loss: 0.1146 - acc: 0.9529 - val_loss: 0.3247 - val_acc: 0.9152\n",
      "Epoch 43/100\n",
      "7352/7352 [==============================] - 33s 5ms/step - loss: 0.1372 - acc: 0.9529 - val_loss: 0.3376 - val_acc: 0.9169\n",
      "Epoch 44/100\n",
      "7352/7352 [==============================] - 33s 5ms/step - loss: 0.1120 - acc: 0.9551 - val_loss: 0.3898 - val_acc: 0.9121\n",
      "Epoch 45/100\n",
      "7352/7352 [==============================] - 33s 4ms/step - loss: 0.1191 - acc: 0.9538 - val_loss: 0.3482 - val_acc: 0.9118\n",
      "Epoch 46/100\n",
      "7352/7352 [==============================] - 33s 5ms/step - loss: 0.1234 - acc: 0.9524 - val_loss: 0.3355 - val_acc: 0.9104\n",
      "Epoch 47/100\n",
      "7352/7352 [==============================] - 33s 5ms/step - loss: 0.1147 - acc: 0.9524 - val_loss: 0.3519 - val_acc: 0.9108\n",
      "Epoch 48/100\n",
      "7352/7352 [==============================] - 33s 4ms/step - loss: 0.1249 - acc: 0.9452 - val_loss: 0.3401 - val_acc: 0.9182\n",
      "Epoch 49/100\n",
      "7352/7352 [==============================] - 33s 4ms/step - loss: 0.1141 - acc: 0.9517 - val_loss: 0.3679 - val_acc: 0.9186\n",
      "Epoch 50/100\n",
      "7352/7352 [==============================] - 33s 4ms/step - loss: 0.1169 - acc: 0.9528 - val_loss: 0.2927 - val_acc: 0.9155\n",
      "Epoch 51/100\n",
      "7352/7352 [==============================] - 33s 4ms/step - loss: 0.1028 - acc: 0.9562 - val_loss: 0.3967 - val_acc: 0.9186\n",
      "Epoch 52/100\n",
      "7352/7352 [==============================] - 33s 5ms/step - loss: 0.1119 - acc: 0.9533 - val_loss: 0.3284 - val_acc: 0.9114\n",
      "Epoch 53/100\n",
      "7352/7352 [==============================] - 33s 4ms/step - loss: 0.1105 - acc: 0.9538 - val_loss: 0.3447 - val_acc: 0.9223\n",
      "Epoch 54/100\n",
      "7352/7352 [==============================] - 33s 5ms/step - loss: 0.1134 - acc: 0.9548 - val_loss: 0.3628 - val_acc: 0.9179\n",
      "Epoch 55/100\n",
      "7352/7352 [==============================] - 33s 4ms/step - loss: 0.1108 - acc: 0.9566 - val_loss: 0.3471 - val_acc: 0.9158\n",
      "Epoch 56/100\n",
      "7352/7352 [==============================] - 33s 4ms/step - loss: 0.1046 - acc: 0.9563 - val_loss: 0.3865 - val_acc: 0.9111\n",
      "Epoch 57/100\n",
      "7352/7352 [==============================] - 33s 5ms/step - loss: 0.1055 - acc: 0.9535 - val_loss: 0.3397 - val_acc: 0.9203\n",
      "Epoch 58/100\n",
      "7352/7352 [==============================] - 33s 4ms/step - loss: 0.1079 - acc: 0.9557 - val_loss: 0.3958 - val_acc: 0.9128\n",
      "Epoch 59/100\n",
      "7352/7352 [==============================] - 33s 5ms/step - loss: 0.1024 - acc: 0.9550 - val_loss: 0.3926 - val_acc: 0.9274\n",
      "Epoch 60/100\n",
      "7352/7352 [==============================] - 33s 5ms/step - loss: 0.1142 - acc: 0.9554 - val_loss: 0.3457 - val_acc: 0.9186\n",
      "Epoch 61/100\n",
      "7352/7352 [==============================] - 34s 5ms/step - loss: 0.0958 - acc: 0.9580 - val_loss: 0.3053 - val_acc: 0.9250\n",
      "Epoch 62/100\n",
      "7352/7352 [==============================] - 33s 4ms/step - loss: 0.0995 - acc: 0.9563 - val_loss: 0.3124 - val_acc: 0.9253\n",
      "Epoch 63/100\n",
      "7352/7352 [==============================] - 33s 4ms/step - loss: 0.1008 - acc: 0.9550 - val_loss: 0.3940 - val_acc: 0.9097\n",
      "Epoch 64/100\n",
      "7352/7352 [==============================] - 33s 4ms/step - loss: 0.1022 - acc: 0.9565 - val_loss: 0.3458 - val_acc: 0.9243\n",
      "Epoch 65/100\n",
      "7352/7352 [==============================] - 33s 4ms/step - loss: 0.1077 - acc: 0.9480 - val_loss: 0.3440 - val_acc: 0.9230\n",
      "Epoch 66/100\n",
      "7352/7352 [==============================] - 33s 4ms/step - loss: 0.1072 - acc: 0.9514 - val_loss: 0.4210 - val_acc: 0.9138\n",
      "Epoch 67/100\n",
      "7352/7352 [==============================] - 33s 5ms/step - loss: 0.0966 - acc: 0.9563 - val_loss: 0.3919 - val_acc: 0.9230\n",
      "Epoch 68/100\n",
      "7352/7352 [==============================] - 35s 5ms/step - loss: 0.0971 - acc: 0.9565 - val_loss: 0.3171 - val_acc: 0.9274\n",
      "Epoch 69/100\n",
      "7352/7352 [==============================] - 33s 5ms/step - loss: 0.1029 - acc: 0.9562 - val_loss: 0.3503 - val_acc: 0.9230\n",
      "Epoch 70/100\n",
      "7352/7352 [==============================] - 33s 5ms/step - loss: 0.0913 - acc: 0.9584 - val_loss: 0.7421 - val_acc: 0.8860\n",
      "Epoch 71/100\n",
      "7352/7352 [==============================] - 34s 5ms/step - loss: 0.0950 - acc: 0.9588 - val_loss: 0.3455 - val_acc: 0.9277\n",
      "Epoch 72/100\n",
      "7352/7352 [==============================] - 33s 4ms/step - loss: 0.0939 - acc: 0.9596 - val_loss: 0.3448 - val_acc: 0.9203\n",
      "Epoch 73/100\n",
      "7352/7352 [==============================] - 33s 5ms/step - loss: 0.0938 - acc: 0.9601 - val_loss: 0.3531 - val_acc: 0.9196\n",
      "Epoch 74/100\n",
      "7352/7352 [==============================] - 33s 5ms/step - loss: 0.0913 - acc: 0.9614 - val_loss: 0.3990 - val_acc: 0.9053\n",
      "Epoch 75/100\n",
      "7352/7352 [==============================] - 34s 5ms/step - loss: 0.1025 - acc: 0.9542 - val_loss: 0.3139 - val_acc: 0.9270\n",
      "Epoch 76/100\n",
      "7352/7352 [==============================] - 37s 5ms/step - loss: 0.0904 - acc: 0.9581 - val_loss: 0.3482 - val_acc: 0.9311\n",
      "Epoch 77/100\n",
      "7352/7352 [==============================] - 33s 4ms/step - loss: 0.0982 - acc: 0.9557 - val_loss: 0.3516 - val_acc: 0.9247\n",
      "Epoch 78/100\n",
      "7352/7352 [==============================] - 36s 5ms/step - loss: 0.0949 - acc: 0.9580 - val_loss: 0.3163 - val_acc: 0.9230\n",
      "Epoch 79/100\n",
      "7352/7352 [==============================] - 39s 5ms/step - loss: 0.1002 - acc: 0.9595 - val_loss: 0.3249 - val_acc: 0.9203\n",
      "Epoch 80/100\n",
      "7352/7352 [==============================] - 35s 5ms/step - loss: 0.0947 - acc: 0.9570 - val_loss: 0.3824 - val_acc: 0.9148\n",
      "Epoch 81/100\n",
      "7352/7352 [==============================] - 35s 5ms/step - loss: 0.0880 - acc: 0.9585 - val_loss: 0.3553 - val_acc: 0.9196\n",
      "Epoch 82/100\n",
      "7352/7352 [==============================] - 34s 5ms/step - loss: 0.0924 - acc: 0.9567 - val_loss: 0.3700 - val_acc: 0.9172\n",
      "Epoch 83/100\n",
      "7352/7352 [==============================] - 33s 5ms/step - loss: 0.0899 - acc: 0.9589 - val_loss: 0.4141 - val_acc: 0.9087\n",
      "Epoch 84/100\n",
      "7352/7352 [==============================] - 34s 5ms/step - loss: 0.0971 - acc: 0.9569 - val_loss: 0.3361 - val_acc: 0.9199\n",
      "Epoch 85/100\n",
      "7352/7352 [==============================] - 33s 5ms/step - loss: 0.0998 - acc: 0.9577 - val_loss: 0.4155 - val_acc: 0.9162\n",
      "Epoch 86/100\n",
      "7352/7352 [==============================] - 34s 5ms/step - loss: 0.0957 - acc: 0.9589 - val_loss: 0.3499 - val_acc: 0.9264\n",
      "Epoch 87/100\n",
      "7352/7352 [==============================] - 33s 5ms/step - loss: 0.0889 - acc: 0.9589 - val_loss: 0.3878 - val_acc: 0.9158\n",
      "Epoch 88/100\n",
      "7352/7352 [==============================] - 35s 5ms/step - loss: 0.0804 - acc: 0.9596 - val_loss: 0.4995 - val_acc: 0.8897\n",
      "Epoch 89/100\n",
      "7352/7352 [==============================] - 37s 5ms/step - loss: 0.0852 - acc: 0.9597 - val_loss: 0.4205 - val_acc: 0.9131\n",
      "Epoch 90/100\n",
      "7352/7352 [==============================] - 36s 5ms/step - loss: 0.0984 - acc: 0.9604 - val_loss: 0.4236 - val_acc: 0.9101\n",
      "Epoch 91/100\n",
      "7352/7352 [==============================] - 52s 7ms/step - loss: 0.0926 - acc: 0.9603 - val_loss: 0.4813 - val_acc: 0.9057\n",
      "Epoch 92/100\n",
      "7352/7352 [==============================] - 46s 6ms/step - loss: 0.0908 - acc: 0.9610 - val_loss: 0.3854 - val_acc: 0.9257\n",
      "Epoch 93/100\n",
      "7352/7352 [==============================] - 52s 7ms/step - loss: 0.0821 - acc: 0.9627 - val_loss: 0.3995 - val_acc: 0.9186\n",
      "Epoch 94/100\n",
      "7352/7352 [==============================] - 48s 6ms/step - loss: 0.0929 - acc: 0.9603 - val_loss: 0.4050 - val_acc: 0.9155\n",
      "Epoch 95/100\n",
      "7352/7352 [==============================] - 48s 7ms/step - loss: 0.0928 - acc: 0.9619 - val_loss: 0.4992 - val_acc: 0.9013\n",
      "Epoch 96/100\n",
      "7352/7352 [==============================] - 47s 6ms/step - loss: 0.0798 - acc: 0.9625 - val_loss: 0.4357 - val_acc: 0.9087\n",
      "Epoch 97/100\n",
      "7352/7352 [==============================] - 48s 6ms/step - loss: 0.0787 - acc: 0.9627 - val_loss: 0.4806 - val_acc: 0.9046\n",
      "Epoch 98/100\n",
      "7352/7352 [==============================] - 47s 6ms/step - loss: 0.0863 - acc: 0.9601 - val_loss: 0.5321 - val_acc: 0.9125\n",
      "Epoch 99/100\n",
      "7352/7352 [==============================] - 54s 7ms/step - loss: 0.0815 - acc: 0.9640 - val_loss: 0.4649 - val_acc: 0.9118\n",
      "Epoch 100/100\n",
      "7352/7352 [==============================] - 40s 5ms/step - loss: 0.0811 - acc: 0.9596 - val_loss: 0.4141 - val_acc: 0.9189\n"
     ]
    }
   ],
   "source": [
    "# Training the model\n",
    "history4 = model4.fit(X_train,Y_train,batch_size=batch_size,validation_data=(X_test, Y_test),\n",
    "                     epochs=100)"
   ]
  },
  {
   "cell_type": "code",
   "execution_count": 47,
   "metadata": {
    "ExecuteTime": {
     "end_time": "2018-11-08T16:36:42.869792Z",
     "start_time": "2018-11-08T16:36:25.129226Z"
    }
   },
   "outputs": [
    {
     "name": "stdout",
     "output_type": "stream",
     "text": [
      "Pred                LAYING  SITTING  STANDING  WALKING  WALKING_DOWNSTAIRS  \\\n",
      "True                                                                         \n",
      "LAYING                 510        0        25        0                   0   \n",
      "SITTING                  3      436        51        0                   1   \n",
      "STANDING                 0      112       417        2                   0   \n",
      "WALKING                  0        2         1      466                   0   \n",
      "WALKING_DOWNSTAIRS       0        0         0        0                 415   \n",
      "WALKING_UPSTAIRS         0        0         0        2                   5   \n",
      "\n",
      "Pred                WALKING_UPSTAIRS  \n",
      "True                                  \n",
      "LAYING                             2  \n",
      "SITTING                            0  \n",
      "STANDING                           1  \n",
      "WALKING                           27  \n",
      "WALKING_DOWNSTAIRS                 5  \n",
      "WALKING_UPSTAIRS                 464  \n"
     ]
    }
   ],
   "source": [
    "# Confusion Matrix\n",
    "print(confusion_matrix(Y_test, model4.predict(X_test)))"
   ]
  },
  {
   "cell_type": "code",
   "execution_count": 48,
   "metadata": {
    "ExecuteTime": {
     "end_time": "2018-11-08T16:37:08.350522Z",
     "start_time": "2018-11-08T16:36:51.713972Z"
    }
   },
   "outputs": [
    {
     "name": "stdout",
     "output_type": "stream",
     "text": [
      "2947/2947 [==============================] - 17s 6ms/step\n"
     ]
    }
   ],
   "source": [
    "score4 = model4.evaluate(X_test, Y_test)"
   ]
  },
  {
   "cell_type": "code",
   "execution_count": 50,
   "metadata": {
    "ExecuteTime": {
     "end_time": "2018-11-08T16:37:18.303468Z",
     "start_time": "2018-11-08T16:37:18.297486Z"
    }
   },
   "outputs": [
    {
     "data": {
      "text/plain": [
       "[0.4141320268444936, 0.9189005768578216]"
      ]
     },
     "execution_count": 50,
     "metadata": {},
     "output_type": "execute_result"
    }
   ],
   "source": [
    "score4"
   ]
  },
  {
   "cell_type": "code",
   "execution_count": 51,
   "metadata": {
    "ExecuteTime": {
     "end_time": "2018-11-08T16:37:59.770309Z",
     "start_time": "2018-11-08T16:37:59.610704Z"
    }
   },
   "outputs": [
    {
     "data": {
      "image/png": "[encoded data removed]",
      "text/plain": [
       "<Figure size 432x288 with 1 Axes>"
      ]
     },
     "metadata": {},
     "output_type": "display_data"
    }
   ],
   "source": [
    "import matplotlib.pyplot as plt\n",
    "%matplotlib inline\n",
    "plt.plot(history4.history['acc'])\n",
    "plt.plot(history4.history['val_acc'])\n",
    "plt.xlabel(\"Numbers of epochs\")\n",
    "plt.ylabel(\"Accuracy\")\n",
    "plt.title(\"Accuracy summary\")\n",
    "plt.legend(['Train','Test'],loc='best')\n",
    "plt.show()"
   ]
  },
  {
   "cell_type": "code",
   "execution_count": 52,
   "metadata": {
    "ExecuteTime": {
     "end_time": "2018-11-08T16:38:07.709747Z",
     "start_time": "2018-11-08T16:38:07.065473Z"
    }
   },
   "outputs": [
    {
     "data": {
      "image/png": "[encoded data removed]",
      "text/plain": [
       "<Figure size 432x288 with 1 Axes>"
      ]
     },
     "metadata": {},
     "output_type": "display_data"
    }
   ],
   "source": [
    "import matplotlib.pyplot as plt\n",
    "%matplotlib inline\n",
    "plt.plot(history4.history['loss'])\n",
    "plt.plot(history4.history['val_loss'])\n",
    "plt.xlabel(\"Numbers of epochs\")\n",
    "plt.ylabel(\"Loss\")\n",
    "plt.title(\"Loss summary\")\n",
    "plt.legend(['Train','Test'],loc='best')\n",
    "plt.show()"
   ]
  },
  {
   "cell_type": "code",
   "execution_count": 59,
   "metadata": {
    "ExecuteTime": {
     "end_time": "2018-11-08T16:45:25.194833Z",
     "start_time": "2018-11-08T16:45:24.660265Z"
    }
   },
   "outputs": [
    {
     "name": "stdout",
     "output_type": "stream",
     "text": [
      "_________________________________________________________________\n",
      "Layer (type)                 Output Shape              Param #   \n",
      "=================================================================\n",
      "lstm_20 (LSTM)               (None, 128, 128)          70656     \n",
      "_________________________________________________________________\n",
      "dropout_18 (Dropout)         (None, 128, 128)          0         \n",
      "_________________________________________________________________\n",
      "lstm_21 (LSTM)               (None, 128, 64)           49408     \n",
      "_________________________________________________________________\n",
      "dropout_19 (Dropout)         (None, 128, 64)           0         \n",
      "_________________________________________________________________\n",
      "lstm_22 (LSTM)               (None, 32)                12416     \n",
      "_________________________________________________________________\n",
      "dropout_20 (Dropout)         (None, 32)                0         \n",
      "_________________________________________________________________\n",
      "dense_8 (Dense)              (None, 6)                 198       \n",
      "=================================================================\n",
      "Total params: 132,678\n",
      "Trainable params: 132,678\n",
      "Non-trainable params: 0\n",
      "_________________________________________________________________\n"
     ]
    }
   ],
   "source": [
    "# Initiliazing the sequential model\n",
    "model5 = Sequential()\n",
    "# Configuring the parameters\n",
    "model5.add(LSTM(128,input_shape=(timesteps, input_dim),return_sequences=True))\n",
    "# Adding a dropout layer\n",
    "model5.add(Dropout(0.5))\n",
    "\n",
    "model5.add(LSTM(64,return_sequences=True))\n",
    "model5.add(Dropout(0.5))\n",
    "\n",
    "model5.add(LSTM(32))\n",
    "model5.add(Dropout(0.5))\n",
    "# Adding a dense output layer with sigmoid activation\n",
    "model5.add(Dense(n_classes,activation='sigmoid'))\n",
    "model5.summary()"
   ]
  },
  {
   "cell_type": "code",
   "execution_count": 60,
   "metadata": {
    "ExecuteTime": {
     "end_time": "2018-11-08T16:45:27.512257Z",
     "start_time": "2018-11-08T16:45:27.482319Z"
    }
   },
   "outputs": [],
   "source": [
    "# Compiling the model\n",
    "model5.compile(loss='categorical_crossentropy',optimizer='adam',metrics=['accuracy'])"
   ]
  },
  {
   "cell_type": "code",
   "execution_count": 61,
   "metadata": {
    "ExecuteTime": {
     "end_time": "2018-11-08T18:29:27.875629Z",
     "start_time": "2018-11-08T16:45:28.267753Z"
    }
   },
   "outputs": [
    {
     "name": "stdout",
     "output_type": "stream",
     "text": [
      "Train on 7352 samples, validate on 2947 samples\n",
      "Epoch 1/100\n",
      "7352/7352 [==============================] - 53s 7ms/step - loss: 1.5547 - acc: 0.3655 - val_loss: 1.7976 - val_acc: 0.2827\n",
      "Epoch 2/100\n",
      "7352/7352 [==============================] - 55s 8ms/step - loss: 1.4058 - acc: 0.3942 - val_loss: 1.3183 - val_acc: 0.5165\n",
      "Epoch 3/100\n",
      "7352/7352 [==============================] - 67s 9ms/step - loss: 1.2437 - acc: 0.4761 - val_loss: 1.2336 - val_acc: 0.4425\n",
      "Epoch 4/100\n",
      "7352/7352 [==============================] - 80s 11ms/step - loss: 1.2448 - acc: 0.4359 - val_loss: 1.1914 - val_acc: 0.4941\n",
      "Epoch 5/100\n",
      "7352/7352 [==============================] - 84s 11ms/step - loss: 1.0748 - acc: 0.5467 - val_loss: 0.9838 - val_acc: 0.6094\n",
      "Epoch 6/100\n",
      "7352/7352 [==============================] - 86s 12ms/step - loss: 1.0465 - acc: 0.5505 - val_loss: 1.0104 - val_acc: 0.5684\n",
      "Epoch 7/100\n",
      "7352/7352 [==============================] - 74s 10ms/step - loss: 0.9293 - acc: 0.6041 - val_loss: 0.8930 - val_acc: 0.5867\n",
      "Epoch 8/100\n",
      "7352/7352 [==============================] - 89s 12ms/step - loss: 0.8829 - acc: 0.6212 - val_loss: 1.3724 - val_acc: 0.4323\n",
      "Epoch 9/100\n",
      "7352/7352 [==============================] - 77s 10ms/step - loss: 0.9736 - acc: 0.5155 - val_loss: 0.8645 - val_acc: 0.5287\n",
      "Epoch 10/100\n",
      "7352/7352 [==============================] - 75s 10ms/step - loss: 0.8767 - acc: 0.5832 - val_loss: 1.5916 - val_acc: 0.4869\n",
      "Epoch 11/100\n",
      "7352/7352 [==============================] - 77s 10ms/step - loss: 0.7794 - acc: 0.6219 - val_loss: 0.7305 - val_acc: 0.6216\n",
      "Epoch 12/100\n",
      "7352/7352 [==============================] - 75s 10ms/step - loss: 0.7223 - acc: 0.6299 - val_loss: 0.7145 - val_acc: 0.6166\n",
      "Epoch 13/100\n",
      "7352/7352 [==============================] - 77s 10ms/step - loss: 0.7758 - acc: 0.5741 - val_loss: 0.7655 - val_acc: 0.5310\n",
      "Epoch 14/100\n",
      "7352/7352 [==============================] - 71s 10ms/step - loss: 0.7746 - acc: 0.5564 - val_loss: 0.7525 - val_acc: 0.6193\n",
      "Epoch 15/100\n",
      "7352/7352 [==============================] - 68s 9ms/step - loss: 0.7521 - acc: 0.6103 - val_loss: 0.7572 - val_acc: 0.5857\n",
      "Epoch 16/100\n",
      "7352/7352 [==============================] - 87s 12ms/step - loss: 0.7394 - acc: 0.6107 - val_loss: 0.7458 - val_acc: 0.6186\n",
      "Epoch 17/100\n",
      "7352/7352 [==============================] - 76s 10ms/step - loss: 0.7115 - acc: 0.6362 - val_loss: 0.7775 - val_acc: 0.6101\n",
      "Epoch 18/100\n",
      "7352/7352 [==============================] - 73s 10ms/step - loss: 0.7443 - acc: 0.6223 - val_loss: 0.7201 - val_acc: 0.6179\n",
      "Epoch 19/100\n",
      "7352/7352 [==============================] - 66s 9ms/step - loss: 0.8113 - acc: 0.6000 - val_loss: 0.8823 - val_acc: 0.5646\n",
      "Epoch 20/100\n",
      "7352/7352 [==============================] - 58s 8ms/step - loss: 0.7734 - acc: 0.5922 - val_loss: 0.7619 - val_acc: 0.6223\n",
      "Epoch 21/100\n",
      "7352/7352 [==============================] - 60s 8ms/step - loss: 0.6654 - acc: 0.6518 - val_loss: 0.6990 - val_acc: 0.6206\n",
      "Epoch 22/100\n",
      "7352/7352 [==============================] - 61s 8ms/step - loss: 0.6505 - acc: 0.6595 - val_loss: 0.6940 - val_acc: 0.6325\n",
      "Epoch 23/100\n",
      "7352/7352 [==============================] - 61s 8ms/step - loss: 0.6412 - acc: 0.6589 - val_loss: 0.6845 - val_acc: 0.6267\n",
      "Epoch 24/100\n",
      "7352/7352 [==============================] - 66s 9ms/step - loss: 0.6671 - acc: 0.6353 - val_loss: 0.7071 - val_acc: 0.6240\n",
      "Epoch 25/100\n",
      "7352/7352 [==============================] - 66s 9ms/step - loss: 0.6389 - acc: 0.6590 - val_loss: 0.7154 - val_acc: 0.6230\n",
      "Epoch 26/100\n",
      "7352/7352 [==============================] - 55s 7ms/step - loss: 0.6987 - acc: 0.6551 - val_loss: 0.7871 - val_acc: 0.6145\n",
      "Epoch 27/100\n",
      "7352/7352 [==============================] - 58s 8ms/step - loss: 0.6879 - acc: 0.6521 - val_loss: 0.7045 - val_acc: 0.6362\n",
      "Epoch 28/100\n",
      "7352/7352 [==============================] - 55s 7ms/step - loss: 0.6726 - acc: 0.6627 - val_loss: 0.7687 - val_acc: 0.6257\n",
      "Epoch 29/100\n",
      "7352/7352 [==============================] - 67s 9ms/step - loss: 0.6601 - acc: 0.6636 - val_loss: 0.7896 - val_acc: 0.6264\n",
      "Epoch 30/100\n",
      "7352/7352 [==============================] - 71s 10ms/step - loss: 0.6606 - acc: 0.6608 - val_loss: 0.7672 - val_acc: 0.6227\n",
      "Epoch 31/100\n",
      "7352/7352 [==============================] - 60s 8ms/step - loss: 0.6491 - acc: 0.6617 - val_loss: 0.7246 - val_acc: 0.6233\n",
      "Epoch 32/100\n",
      "7352/7352 [==============================] - 64s 9ms/step - loss: 0.6473 - acc: 0.6636 - val_loss: 0.7117 - val_acc: 0.6183\n",
      "Epoch 33/100\n",
      "7352/7352 [==============================] - 58s 8ms/step - loss: 0.6552 - acc: 0.6610 - val_loss: 0.6938 - val_acc: 0.6328\n",
      "Epoch 34/100\n",
      "7352/7352 [==============================] - 64s 9ms/step - loss: 0.6432 - acc: 0.6632 - val_loss: 0.6871 - val_acc: 0.6369\n",
      "Epoch 35/100\n",
      "7352/7352 [==============================] - 56s 8ms/step - loss: 0.6394 - acc: 0.6706 - val_loss: 0.6961 - val_acc: 0.6325\n",
      "Epoch 36/100\n",
      "7352/7352 [==============================] - 56s 8ms/step - loss: 0.6385 - acc: 0.6710 - val_loss: 0.7344 - val_acc: 0.6237\n",
      "Epoch 37/100\n",
      "7352/7352 [==============================] - 60s 8ms/step - loss: 0.7255 - acc: 0.6481 - val_loss: 0.6923 - val_acc: 0.6312\n",
      "Epoch 38/100\n",
      "7352/7352 [==============================] - 56s 8ms/step - loss: 0.6378 - acc: 0.6624 - val_loss: 0.6786 - val_acc: 0.6305\n",
      "Epoch 39/100\n",
      "7352/7352 [==============================] - 54s 7ms/step - loss: 0.7329 - acc: 0.6381 - val_loss: 1.0408 - val_acc: 0.5596\n",
      "Epoch 40/100\n",
      "7352/7352 [==============================] - 65s 9ms/step - loss: 0.7668 - acc: 0.6077 - val_loss: 0.7635 - val_acc: 0.6118\n",
      "Epoch 41/100\n",
      "7352/7352 [==============================] - 56s 8ms/step - loss: 0.6790 - acc: 0.6547 - val_loss: 0.7202 - val_acc: 0.6196\n",
      "Epoch 42/100\n",
      "7352/7352 [==============================] - 59s 8ms/step - loss: 0.6558 - acc: 0.6589 - val_loss: 0.7186 - val_acc: 0.6254\n",
      "Epoch 43/100\n",
      "7352/7352 [==============================] - 61s 8ms/step - loss: 0.6463 - acc: 0.6585 - val_loss: 0.8364 - val_acc: 0.6020\n",
      "Epoch 44/100\n",
      "7352/7352 [==============================] - 52s 7ms/step - loss: 0.8335 - acc: 0.5635 - val_loss: 0.7413 - val_acc: 0.5579\n",
      "Epoch 45/100\n",
      "7352/7352 [==============================] - 52s 7ms/step - loss: 0.7217 - acc: 0.6023 - val_loss: 0.7052 - val_acc: 0.6196\n",
      "Epoch 46/100\n",
      "7352/7352 [==============================] - 52s 7ms/step - loss: 0.6906 - acc: 0.6247 - val_loss: 0.7170 - val_acc: 0.5986\n",
      "Epoch 47/100\n",
      "7352/7352 [==============================] - 54s 7ms/step - loss: 0.6498 - acc: 0.6472 - val_loss: 0.7130 - val_acc: 0.6295\n",
      "Epoch 48/100\n",
      "7352/7352 [==============================] - 67s 9ms/step - loss: 0.6393 - acc: 0.6624 - val_loss: 0.6984 - val_acc: 0.6339\n",
      "Epoch 49/100\n",
      "7352/7352 [==============================] - 56s 8ms/step - loss: 0.6646 - acc: 0.6523 - val_loss: 0.6892 - val_acc: 0.6264\n",
      "Epoch 50/100\n",
      "7352/7352 [==============================] - 54s 7ms/step - loss: 0.6277 - acc: 0.6685 - val_loss: 0.6797 - val_acc: 0.6312\n",
      "Epoch 51/100\n",
      "7352/7352 [==============================] - 52s 7ms/step - loss: 0.6222 - acc: 0.6741 - val_loss: 0.6828 - val_acc: 0.6345\n",
      "Epoch 52/100\n",
      "7352/7352 [==============================] - 67s 9ms/step - loss: 0.6089 - acc: 0.6805 - val_loss: 0.6671 - val_acc: 0.6383\n",
      "Epoch 53/100\n",
      "7352/7352 [==============================] - 62s 8ms/step - loss: 0.6035 - acc: 0.6896 - val_loss: 0.6557 - val_acc: 0.6512\n",
      "Epoch 54/100\n",
      "7352/7352 [==============================] - 82s 11ms/step - loss: 0.5937 - acc: 0.6847 - val_loss: 0.6669 - val_acc: 0.6312\n",
      "Epoch 55/100\n",
      "7352/7352 [==============================] - 82s 11ms/step - loss: 0.6349 - acc: 0.6703 - val_loss: 0.6522 - val_acc: 0.6274\n",
      "Epoch 56/100\n",
      "7352/7352 [==============================] - 83s 11ms/step - loss: 0.5968 - acc: 0.6862 - val_loss: 0.5982 - val_acc: 0.6339\n",
      "Epoch 57/100\n",
      "7352/7352 [==============================] - 92s 13ms/step - loss: 0.6169 - acc: 0.6746 - val_loss: 0.6113 - val_acc: 0.6223\n",
      "Epoch 58/100\n",
      "7352/7352 [==============================] - 105s 14ms/step - loss: 0.5492 - acc: 0.6921 - val_loss: 0.5877 - val_acc: 0.6335\n",
      "Epoch 59/100\n",
      "7352/7352 [==============================] - 73s 10ms/step - loss: 0.5664 - acc: 0.6873 - val_loss: 0.7394 - val_acc: 0.6240\n",
      "Epoch 60/100\n",
      "7352/7352 [==============================] - 57s 8ms/step - loss: 0.5790 - acc: 0.6783 - val_loss: 0.6249 - val_acc: 0.6216\n",
      "Epoch 61/100\n",
      "7352/7352 [==============================] - 53s 7ms/step - loss: 0.5284 - acc: 0.6931 - val_loss: 0.6006 - val_acc: 0.6335\n",
      "Epoch 62/100\n",
      "7352/7352 [==============================] - 51s 7ms/step - loss: 0.6457 - acc: 0.6598 - val_loss: 0.6585 - val_acc: 0.6257\n",
      "Epoch 63/100\n",
      "7352/7352 [==============================] - 54s 7ms/step - loss: 0.5861 - acc: 0.6999 - val_loss: 0.5820 - val_acc: 0.6298\n",
      "Epoch 64/100\n",
      "7352/7352 [==============================] - 53s 7ms/step - loss: 0.5604 - acc: 0.7092 - val_loss: 0.5706 - val_acc: 0.6417\n",
      "Epoch 65/100\n",
      "7352/7352 [==============================] - 51s 7ms/step - loss: 0.5345 - acc: 0.7247 - val_loss: 0.5904 - val_acc: 0.7112\n",
      "Epoch 66/100\n",
      "7352/7352 [==============================] - 51s 7ms/step - loss: 0.5083 - acc: 0.7810 - val_loss: 0.5490 - val_acc: 0.7743\n",
      "Epoch 67/100\n",
      "7352/7352 [==============================] - 52s 7ms/step - loss: 0.4839 - acc: 0.8025 - val_loss: 0.5243 - val_acc: 0.7699\n",
      "Epoch 68/100\n",
      "7352/7352 [==============================] - 51s 7ms/step - loss: 0.4376 - acc: 0.8326 - val_loss: 0.4486 - val_acc: 0.7889\n",
      "Epoch 69/100\n",
      "7352/7352 [==============================] - 51s 7ms/step - loss: 0.5364 - acc: 0.7805 - val_loss: 0.5936 - val_acc: 0.7282\n",
      "Epoch 70/100\n",
      "7352/7352 [==============================] - 51s 7ms/step - loss: 0.4547 - acc: 0.8156 - val_loss: 0.5090 - val_acc: 0.7642\n",
      "Epoch 71/100\n",
      "7352/7352 [==============================] - 53s 7ms/step - loss: 0.3825 - acc: 0.8372 - val_loss: 0.4840 - val_acc: 0.7832\n",
      "Epoch 72/100\n",
      "7352/7352 [==============================] - 51s 7ms/step - loss: 0.3733 - acc: 0.8400 - val_loss: 0.4642 - val_acc: 0.7964\n",
      "Epoch 73/100\n",
      "7352/7352 [==============================] - 51s 7ms/step - loss: 0.3458 - acc: 0.8549 - val_loss: 0.4615 - val_acc: 0.7927\n",
      "Epoch 74/100\n",
      "7352/7352 [==============================] - 51s 7ms/step - loss: 0.3358 - acc: 0.8643 - val_loss: 0.5337 - val_acc: 0.8100\n",
      "Epoch 75/100\n",
      "7352/7352 [==============================] - 52s 7ms/step - loss: 0.3034 - acc: 0.8851 - val_loss: 0.3326 - val_acc: 0.8785\n",
      "Epoch 76/100\n",
      "7352/7352 [==============================] - 50s 7ms/step - loss: 0.2766 - acc: 0.9017 - val_loss: 0.2947 - val_acc: 0.8962\n",
      "Epoch 77/100\n",
      "7352/7352 [==============================] - 50s 7ms/step - loss: 0.2425 - acc: 0.9168 - val_loss: 0.3513 - val_acc: 0.8806\n",
      "Epoch 78/100\n",
      "7352/7352 [==============================] - 51s 7ms/step - loss: 0.2307 - acc: 0.9255 - val_loss: 0.4459 - val_acc: 0.8493\n",
      "Epoch 79/100\n",
      "7352/7352 [==============================] - 50s 7ms/step - loss: 0.2400 - acc: 0.9249 - val_loss: 0.3658 - val_acc: 0.8928\n",
      "Epoch 80/100\n",
      "7352/7352 [==============================] - 49s 7ms/step - loss: 0.2492 - acc: 0.9199 - val_loss: 0.3138 - val_acc: 0.9111\n",
      "Epoch 81/100\n",
      "7352/7352 [==============================] - 49s 7ms/step - loss: 0.2162 - acc: 0.9328 - val_loss: 0.2868 - val_acc: 0.9091\n",
      "Epoch 82/100\n",
      "7352/7352 [==============================] - 50s 7ms/step - loss: 0.2132 - acc: 0.9317 - val_loss: 0.2918 - val_acc: 0.9074\n",
      "Epoch 83/100\n",
      "7352/7352 [==============================] - 50s 7ms/step - loss: 0.1962 - acc: 0.9351 - val_loss: 0.3008 - val_acc: 0.9091\n",
      "Epoch 84/100\n",
      "7352/7352 [==============================] - 52s 7ms/step - loss: 0.1851 - acc: 0.9402 - val_loss: 0.3129 - val_acc: 0.9097\n",
      "Epoch 85/100\n",
      "7352/7352 [==============================] - 52s 7ms/step - loss: 0.1841 - acc: 0.9403 - val_loss: 0.2789 - val_acc: 0.9148\n",
      "Epoch 86/100\n",
      "7352/7352 [==============================] - 57s 8ms/step - loss: 0.1784 - acc: 0.9436 - val_loss: 0.3070 - val_acc: 0.9084\n",
      "Epoch 87/100\n",
      "7352/7352 [==============================] - 54s 7ms/step - loss: 0.1770 - acc: 0.9419 - val_loss: 0.3429 - val_acc: 0.9040\n",
      "Epoch 88/100\n",
      "7352/7352 [==============================] - 52s 7ms/step - loss: 0.1738 - acc: 0.9445 - val_loss: 0.3057 - val_acc: 0.9145\n",
      "Epoch 89/100\n",
      "7352/7352 [==============================] - 55s 7ms/step - loss: 0.1657 - acc: 0.9455 - val_loss: 0.2997 - val_acc: 0.9131\n",
      "Epoch 90/100\n",
      "7352/7352 [==============================] - 80s 11ms/step - loss: 0.1501 - acc: 0.9513 - val_loss: 0.3266 - val_acc: 0.9087\n",
      "Epoch 91/100\n",
      "7352/7352 [==============================] - 64s 9ms/step - loss: 0.1557 - acc: 0.9475 - val_loss: 0.3292 - val_acc: 0.9135\n",
      "Epoch 92/100\n",
      "7352/7352 [==============================] - 64s 9ms/step - loss: 0.1560 - acc: 0.9471 - val_loss: 0.3299 - val_acc: 0.9019\n",
      "Epoch 93/100\n",
      "7352/7352 [==============================] - 52s 7ms/step - loss: 0.2298 - acc: 0.9271 - val_loss: 0.5519 - val_acc: 0.8734\n",
      "Epoch 94/100\n",
      "7352/7352 [==============================] - 55s 8ms/step - loss: 0.1788 - acc: 0.9412 - val_loss: 0.3663 - val_acc: 0.8948\n",
      "Epoch 95/100\n",
      "7352/7352 [==============================] - 57s 8ms/step - loss: 0.1730 - acc: 0.9463 - val_loss: 0.3583 - val_acc: 0.8968\n",
      "Epoch 96/100\n",
      "7352/7352 [==============================] - 61s 8ms/step - loss: 0.1674 - acc: 0.9491 - val_loss: 0.5210 - val_acc: 0.8697\n",
      "Epoch 97/100\n",
      "7352/7352 [==============================] - 83s 11ms/step - loss: 0.2347 - acc: 0.9181 - val_loss: 0.2631 - val_acc: 0.9189\n",
      "Epoch 98/100\n",
      "7352/7352 [==============================] - 72s 10ms/step - loss: 0.1554 - acc: 0.9506 - val_loss: 0.2942 - val_acc: 0.9114\n",
      "Epoch 99/100\n",
      "7352/7352 [==============================] - 84s 11ms/step - loss: 0.1465 - acc: 0.9539 - val_loss: 0.3610 - val_acc: 0.9033\n",
      "Epoch 100/100\n",
      "7352/7352 [==============================] - 71s 10ms/step - loss: 0.1397 - acc: 0.9533 - val_loss: 0.3723 - val_acc: 0.9050\n"
     ]
    }
   ],
   "source": [
    "# Training the model\n",
    "history5 = model5.fit(X_train,Y_train,batch_size=batch_size,validation_data=(X_test, Y_test),\n",
    "                     epochs=100)"
   ]
  },
  {
   "cell_type": "code",
   "execution_count": 62,
   "metadata": {
    "ExecuteTime": {
     "end_time": "2018-11-08T18:33:25.741029Z",
     "start_time": "2018-11-08T18:32:51.999292Z"
    }
   },
   "outputs": [
    {
     "name": "stdout",
     "output_type": "stream",
     "text": [
      "Pred                LAYING  SITTING  STANDING  WALKING  WALKING_DOWNSTAIRS  \\\n",
      "True                                                                         \n",
      "LAYING                 537        0         0        0                   0   \n",
      "SITTING                 22      414        54        0                   1   \n",
      "STANDING                 0      107       424        1                   0   \n",
      "WALKING                  0        0         0      432                   7   \n",
      "WALKING_DOWNSTAIRS       0        0         0        0                 412   \n",
      "WALKING_UPSTAIRS         0        0         1        0                  22   \n",
      "\n",
      "Pred                WALKING_UPSTAIRS  \n",
      "True                                  \n",
      "LAYING                             0  \n",
      "SITTING                            0  \n",
      "STANDING                           0  \n",
      "WALKING                           57  \n",
      "WALKING_DOWNSTAIRS                 8  \n",
      "WALKING_UPSTAIRS                 448  \n"
     ]
    }
   ],
   "source": [
    "# Confusion Matrix\n",
    "print(confusion_matrix(Y_test, model5.predict(X_test)))"
   ]
  },
  {
   "cell_type": "code",
   "execution_count": 63,
   "metadata": {
    "ExecuteTime": {
     "end_time": "2018-11-08T18:33:56.211301Z",
     "start_time": "2018-11-08T18:33:28.828791Z"
    }
   },
   "outputs": [
    {
     "name": "stdout",
     "output_type": "stream",
     "text": [
      "2947/2947 [==============================] - 27s 9ms/step\n"
     ]
    }
   ],
   "source": [
    "score5 = model5.evaluate(X_test, Y_test)"
   ]
  },
  {
   "cell_type": "code",
   "execution_count": 64,
   "metadata": {
    "ExecuteTime": {
     "end_time": "2018-11-08T18:33:59.407038Z",
     "start_time": "2018-11-08T18:33:59.399060Z"
    }
   },
   "outputs": [
    {
     "data": {
      "text/plain": [
       "[0.3722532238988386, 0.9049881235154394]"
      ]
     },
     "execution_count": 64,
     "metadata": {},
     "output_type": "execute_result"
    }
   ],
   "source": [
    "score5"
   ]
  },
  {
   "cell_type": "code",
   "execution_count": 65,
   "metadata": {
    "ExecuteTime": {
     "end_time": "2018-11-08T18:34:39.523214Z",
     "start_time": "2018-11-08T18:34:39.346705Z"
    }
   },
   "outputs": [
    {
     "data": {
      "image/png": "[encoded data removed]",
      "text/plain": [
       "<Figure size 432x288 with 1 Axes>"
      ]
     },
     "metadata": {},
     "output_type": "display_data"
    }
   ],
   "source": [
    "import matplotlib.pyplot as plt\n",
    "%matplotlib inline\n",
    "plt.plot(history5.history['acc'])\n",
    "plt.plot(history5.history['val_acc'])\n",
    "plt.xlabel(\"Numbers of epochs\")\n",
    "plt.ylabel(\"Accuracy\")\n",
    "plt.title(\"Accuracy summary\")\n",
    "plt.legend(['Train','Test'],loc='best')\n",
    "plt.show()"
   ]
  },
  {
   "cell_type": "code",
   "execution_count": 66,
   "metadata": {
    "ExecuteTime": {
     "end_time": "2018-11-08T18:35:24.881713Z",
     "start_time": "2018-11-08T18:35:24.745080Z"
    }
   },
   "outputs": [
    {
     "data": {
      "image/png": "[encoded data removed]",
      "text/plain": [
       "<Figure size 432x288 with 1 Axes>"
      ]
     },
     "metadata": {},
     "output_type": "display_data"
    }
   ],
   "source": [
    "import matplotlib.pyplot as plt\n",
    "%matplotlib inline\n",
    "plt.plot(history5.history['loss'])\n",
    "plt.plot(history5.history['val_loss'])\n",
    "plt.xlabel(\"Numbers of epochs\")\n",
    "plt.ylabel(\"Loss\")\n",
    "plt.title(\"Loss summary\")\n",
    "plt.legend(['Train','Test'],loc='best')\n",
    "plt.show()"
   ]
  },
  {
   "cell_type": "markdown",
   "metadata": {},
   "source": [
    "### Analysis of Human Activity Recoginition using deep learning models"
   ]
  },
  {
   "cell_type": "code",
   "execution_count": 70,
   "metadata": {
    "ExecuteTime": {
     "end_time": "2018-11-08T18:48:11.255816Z",
     "start_time": "2018-11-08T18:48:11.237865Z"
    }
   },
   "outputs": [],
   "source": [
    "df = pd.DataFrame(columns=['Model Nos','LSTM Layres','LSTM Cells','Epochs','Accuracy %','Loss %'])\n",
    "df = df.append(pd.DataFrame([['model 1','1 layers','32','150',0.8971*100,0.3797*100]],\n",
    "                            columns=['Model Nos','LSTM Layres','LSTM Cells','Epochs','Accuracy %','Loss %']))\n",
    "df = df.append(pd.DataFrame([['model 2','1 layers','64','150',0.9039*100,0.5977*100]],\n",
    "                            columns=['Model Nos','LSTM Layres','LSTM Cells','Epochs','Accuracy %','Loss %']))\n",
    "df = df.append(pd.DataFrame([['model 3','2 layers','32','100',0.9182*100,0.4626*100]],\n",
    "                            columns=['Model Nos','LSTM Layres','LSTM Cells','Epochs','Accuracy %','Loss %']))\n",
    "\n",
    "df = df.append(pd.DataFrame([['model 4','2 layers','64','100',0.9189*100,0.4141*100]],\n",
    "                            columns=['Model Nos','LSTM Layres','LSTM Cells','Epochs','Accuracy %','Loss %']))\n",
    "\n",
    "df = df.append(pd.DataFrame([['model 5','3 layers','128','100',0.9049*100,0.3722*100]],\n",
    "                            columns=['Model Nos','LSTM Layres','LSTM Cells','Epochs','Accuracy %','Loss %']))\n",
    "\n",
    "\n",
    "df.reset_index(drop=True,inplace=True)"
   ]
  },
  {
   "cell_type": "code",
   "execution_count": 71,
   "metadata": {
    "ExecuteTime": {
     "end_time": "2018-11-08T18:48:12.292029Z",
     "start_time": "2018-11-08T18:48:12.281058Z"
    }
   },
   "outputs": [
    {
     "data": {
      "text/html": [
       "<div>\n",
       "<style scoped>\n",
       "    .dataframe tbody tr th:only-of-type {\n",
       "        vertical-align: middle;\n",
       "    }\n",
       "\n",
       "    .dataframe tbody tr th {\n",
       "        vertical-align: top;\n",
       "    }\n",
       "\n",
       "    .dataframe thead th {\n",
       "        text-align: right;\n",
       "    }\n",
       "</style>\n",
       "<table border=\"1\" class=\"dataframe\">\n",
       "  <thead>\n",
       "    <tr style=\"text-align: right;\">\n",
       "      <th></th>\n",
       "      <th>Model Nos</th>\n",
       "      <th>LSTM Layres</th>\n",
       "      <th>LSTM Cells</th>\n",
       "      <th>Epochs</th>\n",
       "      <th>Accuracy %</th>\n",
       "      <th>Loss %</th>\n",
       "    </tr>\n",
       "  </thead>\n",
       "  <tbody>\n",
       "    <tr>\n",
       "      <th>0</th>\n",
       "      <td>model 1</td>\n",
       "      <td>1 layers</td>\n",
       "      <td>32</td>\n",
       "      <td>150</td>\n",
       "      <td>89.71</td>\n",
       "      <td>37.97</td>\n",
       "    </tr>\n",
       "    <tr>\n",
       "      <th>1</th>\n",
       "      <td>model 2</td>\n",
       "      <td>1 layers</td>\n",
       "      <td>64</td>\n",
       "      <td>150</td>\n",
       "      <td>90.39</td>\n",
       "      <td>59.77</td>\n",
       "    </tr>\n",
       "    <tr>\n",
       "      <th>2</th>\n",
       "      <td>model 3</td>\n",
       "      <td>2 layers</td>\n",
       "      <td>32</td>\n",
       "      <td>100</td>\n",
       "      <td>91.82</td>\n",
       "      <td>46.26</td>\n",
       "    </tr>\n",
       "    <tr>\n",
       "      <th>3</th>\n",
       "      <td>model 4</td>\n",
       "      <td>2 layers</td>\n",
       "      <td>64</td>\n",
       "      <td>100</td>\n",
       "      <td>91.89</td>\n",
       "      <td>41.41</td>\n",
       "    </tr>\n",
       "    <tr>\n",
       "      <th>4</th>\n",
       "      <td>model 5</td>\n",
       "      <td>3 layers</td>\n",
       "      <td>128</td>\n",
       "      <td>100</td>\n",
       "      <td>90.49</td>\n",
       "      <td>37.22</td>\n",
       "    </tr>\n",
       "  </tbody>\n",
       "</table>\n",
       "</div>"
      ],
      "text/plain": [
       "  Model Nos LSTM Layres LSTM Cells Epochs  Accuracy %  Loss %\n",
       "0   model 1    1 layers         32    150       89.71   37.97\n",
       "1   model 2    1 layers         64    150       90.39   59.77\n",
       "2   model 3    2 layers         32    100       91.82   46.26\n",
       "3   model 4    2 layers         64    100       91.89   41.41\n",
       "4   model 5    3 layers        128    100       90.49   37.22"
      ]
     },
     "execution_count": 71,
     "metadata": {},
     "output_type": "execute_result"
    }
   ],
   "source": [
    "df"
   ]
  },
  {
   "cell_type": "markdown",
   "metadata": {
    "ExecuteTime": {
     "end_time": "2018-11-06T06:54:10.886121Z",
     "start_time": "2018-11-06T06:54:10.860191Z"
    }
   },
   "source": [
    "### Conclusion "
   ]
  },
  {
   "cell_type": "markdown",
   "metadata": {},
   "source": [
    "- We did Exploratory data analysis on HAR dataset.\n",
    "- We applied the classical machine learning algorithm such as Logistic Regression,Liner SVC,SVM with kernels,Decision Tree,Gradient Boosting Decision Tree,Random Forest.\n",
    "- We tuned the hyperparametrs to find out best hyperparametres for each ML algorithms using GridSearchCV.\n",
    "- Plotted the confusion matrix.\n",
    "- Applied the deep learning model such as **LSTM**(Long Short Term Memory).\n",
    "- Applied **LSTM** with differents numbers of layers and nuerons to find out the best accuracy for this case study.\n",
    "- Classical ML algorithm give the higher accuracy(Best accuracy is :**96.81%** for **Liner SVC**) compare to deep learning model **LSTM**( Best accuracy is **91.89%**).\n",
    "- plotted train and validation error for LSTM.\n",
    "- Here we are getting low accuracy for deep learning models **LSTM** than classical ML algorithms because deep learning model is applied where there is large numbers of data points.\n"
   ]
  },
  {
   "cell_type": "code",
   "execution_count": null,
   "metadata": {},
   "outputs": [],
   "source": []
  }
 ],
 "metadata": {
  "kernelspec": {
   "display_name": "Python 3",
   "language": "python",
   "name": "python3"
  },
  "language_info": {
   "codemirror_mode": {
    "name": "ipython",
    "version": 3
   },
   "file_extension": ".py",
   "mimetype": "text/x-python",
   "name": "python",
   "nbconvert_exporter": "python",
   "pygments_lexer": "ipython3",
   "version": "3.6.6"
  }
 },
 "nbformat": 4,
 "nbformat_minor": 2
}
